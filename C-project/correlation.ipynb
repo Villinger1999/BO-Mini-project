{
 "cells": [
  {
   "cell_type": "code",
   "execution_count": 1273,
   "metadata": {},
   "outputs": [],
   "source": [
    "import pandas as pd\n",
    "import numpy as np\n",
    "import matplotlib.pyplot as plt\n",
    "import seaborn as sns\n",
    "from sympy import *\n"
   ]
  },
  {
   "cell_type": "code",
   "execution_count": 1274,
   "metadata": {},
   "outputs": [
    {
     "name": "stderr",
     "output_type": "stream",
     "text": [
      "C:\\Users\\nunni\\AppData\\Local\\Temp\\ipykernel_9324\\3171547631.py:8: FutureWarning: The frame.append method is deprecated and will be removed from pandas in a future version. Use pandas.concat instead.\n",
      "  df = df1.append(df2)\n",
      "C:\\Users\\nunni\\AppData\\Local\\Temp\\ipykernel_9324\\3171547631.py:9: FutureWarning: The frame.append method is deprecated and will be removed from pandas in a future version. Use pandas.concat instead.\n",
      "  df = df.append(df3)\n",
      "C:\\Users\\nunni\\AppData\\Local\\Temp\\ipykernel_9324\\3171547631.py:10: FutureWarning: The frame.append method is deprecated and will be removed from pandas in a future version. Use pandas.concat instead.\n",
      "  df = df.append(df4)\n",
      "C:\\Users\\nunni\\AppData\\Local\\Temp\\ipykernel_9324\\3171547631.py:11: FutureWarning: The frame.append method is deprecated and will be removed from pandas in a future version. Use pandas.concat instead.\n",
      "  df = df.append(df5)\n",
      "C:\\Users\\nunni\\AppData\\Local\\Temp\\ipykernel_9324\\3171547631.py:12: FutureWarning: The frame.append method is deprecated and will be removed from pandas in a future version. Use pandas.concat instead.\n",
      "  df = df.append(df6)\n",
      "C:\\Users\\nunni\\AppData\\Local\\Temp\\ipykernel_9324\\3171547631.py:13: FutureWarning: The frame.append method is deprecated and will be removed from pandas in a future version. Use pandas.concat instead.\n",
      "  df = df.append(df7)\n"
     ]
    },
    {
     "data": {
      "text/html": [
       "<div>\n",
       "<style scoped>\n",
       "    .dataframe tbody tr th:only-of-type {\n",
       "        vertical-align: middle;\n",
       "    }\n",
       "\n",
       "    .dataframe tbody tr th {\n",
       "        vertical-align: top;\n",
       "    }\n",
       "\n",
       "    .dataframe thead th {\n",
       "        text-align: right;\n",
       "    }\n",
       "</style>\n",
       "<table border=\"1\" class=\"dataframe\">\n",
       "  <thead>\n",
       "    <tr style=\"text-align: right;\">\n",
       "      <th></th>\n",
       "      <th>A</th>\n",
       "      <th>B</th>\n",
       "      <th>C</th>\n",
       "      <th>D</th>\n",
       "      <th>E</th>\n",
       "      <th>F</th>\n",
       "    </tr>\n",
       "  </thead>\n",
       "  <tbody>\n",
       "    <tr>\n",
       "      <th>0</th>\n",
       "      <td>1.235291</td>\n",
       "      <td>-1.134355</td>\n",
       "      <td>1.093103</td>\n",
       "      <td>-0.005897</td>\n",
       "      <td>-0.107156</td>\n",
       "      <td>0.186237</td>\n",
       "    </tr>\n",
       "    <tr>\n",
       "      <th>1</th>\n",
       "      <td>-0.024436</td>\n",
       "      <td>0.006688</td>\n",
       "      <td>2.043630</td>\n",
       "      <td>0.079189</td>\n",
       "      <td>0.114786</td>\n",
       "      <td>0.492908</td>\n",
       "    </tr>\n",
       "    <tr>\n",
       "      <th>2</th>\n",
       "      <td>6.275028</td>\n",
       "      <td>-0.860554</td>\n",
       "      <td>2.998722</td>\n",
       "      <td>1.724061</td>\n",
       "      <td>1.331363</td>\n",
       "      <td>2.749730</td>\n",
       "    </tr>\n",
       "    <tr>\n",
       "      <th>3</th>\n",
       "      <td>2.915105</td>\n",
       "      <td>0.495306</td>\n",
       "      <td>-0.022185</td>\n",
       "      <td>-0.386030</td>\n",
       "      <td>0.776131</td>\n",
       "      <td>1.625773</td>\n",
       "    </tr>\n",
       "    <tr>\n",
       "      <th>4</th>\n",
       "      <td>-1.490919</td>\n",
       "      <td>-1.391907</td>\n",
       "      <td>2.958764</td>\n",
       "      <td>-0.100572</td>\n",
       "      <td>-1.006085</td>\n",
       "      <td>3.835835</td>\n",
       "    </tr>\n",
       "    <tr>\n",
       "      <th>...</th>\n",
       "      <td>...</td>\n",
       "      <td>...</td>\n",
       "      <td>...</td>\n",
       "      <td>...</td>\n",
       "      <td>...</td>\n",
       "      <td>...</td>\n",
       "    </tr>\n",
       "    <tr>\n",
       "      <th>295</th>\n",
       "      <td>0.933037</td>\n",
       "      <td>-1.476088</td>\n",
       "      <td>-1.071478</td>\n",
       "      <td>-0.330566</td>\n",
       "      <td>0.850495</td>\n",
       "      <td>3.949351</td>\n",
       "    </tr>\n",
       "    <tr>\n",
       "      <th>296</th>\n",
       "      <td>-1.131597</td>\n",
       "      <td>-0.562131</td>\n",
       "      <td>1.889266</td>\n",
       "      <td>0.478599</td>\n",
       "      <td>1.313841</td>\n",
       "      <td>3.865415</td>\n",
       "    </tr>\n",
       "    <tr>\n",
       "      <th>297</th>\n",
       "      <td>-0.622347</td>\n",
       "      <td>2.274676</td>\n",
       "      <td>-0.668943</td>\n",
       "      <td>0.566052</td>\n",
       "      <td>0.911822</td>\n",
       "      <td>2.308887</td>\n",
       "    </tr>\n",
       "    <tr>\n",
       "      <th>298</th>\n",
       "      <td>1.437506</td>\n",
       "      <td>0.397651</td>\n",
       "      <td>1.501779</td>\n",
       "      <td>1.067500</td>\n",
       "      <td>1.120660</td>\n",
       "      <td>2.122005</td>\n",
       "    </tr>\n",
       "    <tr>\n",
       "      <th>299</th>\n",
       "      <td>0.087185</td>\n",
       "      <td>1.487752</td>\n",
       "      <td>0.201642</td>\n",
       "      <td>0.271828</td>\n",
       "      <td>0.431184</td>\n",
       "      <td>1.236138</td>\n",
       "    </tr>\n",
       "  </tbody>\n",
       "</table>\n",
       "<p>600 rows × 6 columns</p>\n",
       "</div>"
      ],
      "text/plain": [
       "            A         B         C         D         E         F\n",
       "0    1.235291 -1.134355  1.093103 -0.005897 -0.107156  0.186237\n",
       "1   -0.024436  0.006688  2.043630  0.079189  0.114786  0.492908\n",
       "2    6.275028 -0.860554  2.998722  1.724061  1.331363  2.749730\n",
       "3    2.915105  0.495306 -0.022185 -0.386030  0.776131  1.625773\n",
       "4   -1.490919 -1.391907  2.958764 -0.100572 -1.006085  3.835835\n",
       "..        ...       ...       ...       ...       ...       ...\n",
       "295  0.933037 -1.476088 -1.071478 -0.330566  0.850495  3.949351\n",
       "296 -1.131597 -0.562131  1.889266  0.478599  1.313841  3.865415\n",
       "297 -0.622347  2.274676 -0.668943  0.566052  0.911822  2.308887\n",
       "298  1.437506  0.397651  1.501779  1.067500  1.120660  2.122005\n",
       "299  0.087185  1.487752  0.201642  0.271828  0.431184  1.236138\n",
       "\n",
       "[600 rows x 6 columns]"
      ]
     },
     "execution_count": 1274,
     "metadata": {},
     "output_type": "execute_result"
    }
   ],
   "source": [
    "df1 = pd.read_csv('data_1372.csv')\n",
    "df2 = pd.read_csv('data_1394.csv')\n",
    "df3 = pd.read_csv('data_1397.csv')\n",
    "df4 = pd.read_csv('data_1400.csv')\n",
    "df5 = pd.read_csv('data_1474.csv') \n",
    "df6 = pd.read_csv('data_1476.csv') \n",
    "df7 = pd.read_csv('data_1491.csv')   \n",
    "df = df1.append(df2)\n",
    "df = df.append(df3)\n",
    "df = df.append(df4)\n",
    "df = df.append(df5)\n",
    "df = df.append(df6)\n",
    "df = df.append(df7)\n",
    "df.drop(['Unnamed: 0'], axis=1, inplace=True)\n",
    "df"
   ]
  },
  {
   "cell_type": "code",
   "execution_count": 1376,
   "metadata": {},
   "outputs": [
    {
     "name": "stdout",
     "output_type": "stream",
     "text": [
      "          A         B         C         D         E         F\n",
      "A  1.000000 -0.357169 -0.055974  0.065736  0.128204 -0.541377\n",
      "B -0.357169  1.000000  0.444939 -0.016961 -0.063742  0.162971\n",
      "C -0.055974  0.444939  1.000000 -0.007346 -0.026043  0.039684\n",
      "D  0.065736 -0.016961 -0.007346  1.000000  0.030545 -0.023829\n",
      "E  0.128204 -0.063742 -0.026043  0.030545  1.000000 -0.041942\n",
      "F -0.541377  0.162971  0.039684 -0.023829 -0.041942  1.000000\n"
     ]
    },
    {
     "data": {
      "image/png": "[encoded data removed]",
      "text/plain": [
       "<Figure size 720x576 with 2 Axes>"
      ]
     },
     "metadata": {
      "needs_background": "light"
     },
     "output_type": "display_data"
    }
   ],
   "source": [
    "correlation_matrix = df.corr()\n",
    "\n",
    "print(correlation_matrix)\n",
    "\n",
    "plt.figure(figsize=(10, 8))\n",
    "sns.heatmap(correlation_matrix, annot=True, cmap='coolwarm', fmt=\".2f\", annot_kws={\"size\": 10})\n",
    "plt.title('Correlation Heatmap')\n",
    "plt.show()"
   ]
  },
  {
   "cell_type": "code",
   "execution_count": 1276,
   "metadata": {},
   "outputs": [],
   "source": [
    "# def MI(x, y, Nbins=21):\n",
    "#     bins = np.linspace(np.min(x), np.max(x), Nbins)\n",
    "#     eps = np.spacing(1)\n",
    "#     x_marginal = np.histogram(x, bins=bins)[0]\n",
    "#     x_marginal = x_marginal / x_marginal.sum()\n",
    "#     y_marginal = np.histogram(y, bins=bins)[0]\n",
    "#     y_marginal = y_marginal / y_marginal.sum()\n",
    "#     xy_joint = np.histogram2d(x, y, bins=(bins, bins))[0]\n",
    "#     xy_joint = xy_joint / xy_joint.sum()\n",
    "\n",
    "#     plt.figure()\n",
    "#     plt.subplot(1, 2, 1)\n",
    "#     plt.imshow(xy_joint.T, origin='lower')\n",
    "#     plt.title('joint')\n",
    "#     plt.subplot(1, 2, 2)\n",
    "#     plt.imshow((x_marginal[:, None] * y_marginal[None, :]).T, origin='lower')\n",
    "#     plt.title('product of marginals')\n",
    "#     MI_value = np.sum(xy_joint * np.log(xy_joint / (x_marginal[:, None] * y_marginal[None, :] + eps) + eps))\n",
    "#     plt.suptitle('Mutual information: %f' % MI_value)\n",
    "#     return MI_value\n",
    "\n",
    "# # Assuming df is your DataFrame with columns A, B, C, D, E, F\n",
    "# x = df['A']\n",
    "# y = df['B']\n",
    "# MI_value = MI(x, y)\n",
    "# print(\"Mutual Information between A and B:\", MI_value)\n",
    "\n",
    "# # Example with random data\n",
    "# xn = np.random.randn(len(x))\n",
    "# yn = np.random.randn(len(x))\n",
    "# yn1 = xn + yn\n",
    "# MI_value_random = MI(xn, yn1)\n",
    "# print(\"Mutual Information between xn and yn1:\", MI_value_random)"
   ]
  },
  {
   "cell_type": "markdown",
   "metadata": {},
   "source": [
    "A virker central - har høj correlation med alle undtagen C"
   ]
  },
  {
   "cell_type": "markdown",
   "metadata": {},
   "source": [
    "Intervention: A = 1"
   ]
  },
  {
   "cell_type": "code",
   "execution_count": 1277,
   "metadata": {},
   "outputs": [
    {
     "data": {
      "text/html": [
       "<div>\n",
       "<style scoped>\n",
       "    .dataframe tbody tr th:only-of-type {\n",
       "        vertical-align: middle;\n",
       "    }\n",
       "\n",
       "    .dataframe tbody tr th {\n",
       "        vertical-align: top;\n",
       "    }\n",
       "\n",
       "    .dataframe thead th {\n",
       "        text-align: right;\n",
       "    }\n",
       "</style>\n",
       "<table border=\"1\" class=\"dataframe\">\n",
       "  <thead>\n",
       "    <tr style=\"text-align: right;\">\n",
       "      <th></th>\n",
       "      <th>A</th>\n",
       "      <th>B</th>\n",
       "      <th>C</th>\n",
       "      <th>D</th>\n",
       "      <th>E</th>\n",
       "      <th>F</th>\n",
       "    </tr>\n",
       "  </thead>\n",
       "  <tbody>\n",
       "    <tr>\n",
       "      <th>0</th>\n",
       "      <td>0.0</td>\n",
       "      <td>-2.339233</td>\n",
       "      <td>0.467200</td>\n",
       "      <td>-0.009482</td>\n",
       "      <td>-0.159329</td>\n",
       "      <td>1.621463</td>\n",
       "    </tr>\n",
       "    <tr>\n",
       "      <th>1</th>\n",
       "      <td>0.0</td>\n",
       "      <td>0.552485</td>\n",
       "      <td>2.056528</td>\n",
       "      <td>0.011475</td>\n",
       "      <td>-0.061477</td>\n",
       "      <td>2.407137</td>\n",
       "    </tr>\n",
       "    <tr>\n",
       "      <th>2</th>\n",
       "      <td>0.0</td>\n",
       "      <td>1.063467</td>\n",
       "      <td>1.980887</td>\n",
       "      <td>0.478900</td>\n",
       "      <td>0.841294</td>\n",
       "      <td>2.001931</td>\n",
       "    </tr>\n",
       "    <tr>\n",
       "      <th>3</th>\n",
       "      <td>0.0</td>\n",
       "      <td>0.234420</td>\n",
       "      <td>2.862971</td>\n",
       "      <td>-0.445324</td>\n",
       "      <td>0.158340</td>\n",
       "      <td>0.050613</td>\n",
       "    </tr>\n",
       "    <tr>\n",
       "      <th>4</th>\n",
       "      <td>0.0</td>\n",
       "      <td>1.556448</td>\n",
       "      <td>-1.032668</td>\n",
       "      <td>-0.364412</td>\n",
       "      <td>0.826386</td>\n",
       "      <td>0.665317</td>\n",
       "    </tr>\n",
       "    <tr>\n",
       "      <th>...</th>\n",
       "      <td>...</td>\n",
       "      <td>...</td>\n",
       "      <td>...</td>\n",
       "      <td>...</td>\n",
       "      <td>...</td>\n",
       "      <td>...</td>\n",
       "    </tr>\n",
       "    <tr>\n",
       "      <th>195</th>\n",
       "      <td>0.0</td>\n",
       "      <td>0.978355</td>\n",
       "      <td>2.624005</td>\n",
       "      <td>-0.040215</td>\n",
       "      <td>-0.182772</td>\n",
       "      <td>0.765566</td>\n",
       "    </tr>\n",
       "    <tr>\n",
       "      <th>196</th>\n",
       "      <td>0.0</td>\n",
       "      <td>1.833345</td>\n",
       "      <td>1.629920</td>\n",
       "      <td>0.316166</td>\n",
       "      <td>1.337286</td>\n",
       "      <td>2.821930</td>\n",
       "    </tr>\n",
       "    <tr>\n",
       "      <th>197</th>\n",
       "      <td>0.0</td>\n",
       "      <td>-0.028753</td>\n",
       "      <td>1.666597</td>\n",
       "      <td>1.404231</td>\n",
       "      <td>-1.312717</td>\n",
       "      <td>3.035340</td>\n",
       "    </tr>\n",
       "    <tr>\n",
       "      <th>198</th>\n",
       "      <td>0.0</td>\n",
       "      <td>0.417520</td>\n",
       "      <td>1.962364</td>\n",
       "      <td>0.178653</td>\n",
       "      <td>-0.598199</td>\n",
       "      <td>1.779220</td>\n",
       "    </tr>\n",
       "    <tr>\n",
       "      <th>199</th>\n",
       "      <td>0.0</td>\n",
       "      <td>-0.376673</td>\n",
       "      <td>2.360626</td>\n",
       "      <td>0.666867</td>\n",
       "      <td>-1.168183</td>\n",
       "      <td>3.346532</td>\n",
       "    </tr>\n",
       "  </tbody>\n",
       "</table>\n",
       "<p>200 rows × 6 columns</p>\n",
       "</div>"
      ],
      "text/plain": [
       "       A         B         C         D         E         F\n",
       "0    0.0 -2.339233  0.467200 -0.009482 -0.159329  1.621463\n",
       "1    0.0  0.552485  2.056528  0.011475 -0.061477  2.407137\n",
       "2    0.0  1.063467  1.980887  0.478900  0.841294  2.001931\n",
       "3    0.0  0.234420  2.862971 -0.445324  0.158340  0.050613\n",
       "4    0.0  1.556448 -1.032668 -0.364412  0.826386  0.665317\n",
       "..   ...       ...       ...       ...       ...       ...\n",
       "195  0.0  0.978355  2.624005 -0.040215 -0.182772  0.765566\n",
       "196  0.0  1.833345  1.629920  0.316166  1.337286  2.821930\n",
       "197  0.0 -0.028753  1.666597  1.404231 -1.312717  3.035340\n",
       "198  0.0  0.417520  1.962364  0.178653 -0.598199  1.779220\n",
       "199  0.0 -0.376673  2.360626  0.666867 -1.168183  3.346532\n",
       "\n",
       "[200 rows x 6 columns]"
      ]
     },
     "execution_count": 1277,
     "metadata": {},
     "output_type": "execute_result"
    }
   ],
   "source": [
    "df_A2 = pd.read_csv('data_1679.csv')\n",
    "df_A0 = pd.read_csv('data_1698.csv')\n",
    "df_A0.drop('Unnamed: 0', axis=1, inplace=True)\n",
    "df_A2.drop('Unnamed: 0', axis=1, inplace=True)\n",
    "df_A0"
   ]
  },
  {
   "cell_type": "code",
   "execution_count": 1378,
   "metadata": {},
   "outputs": [
    {
     "name": "stdout",
     "output_type": "stream",
     "text": [
      "    A         B         C         D         E         F\n",
      "A NaN       NaN       NaN       NaN       NaN       NaN\n",
      "B NaN  1.000000  0.455055  0.123581  0.156502 -0.036669\n",
      "C NaN  0.455055  1.000000  0.137169  0.053677  0.114409\n",
      "D NaN  0.123581  0.137169  1.000000 -0.035829  0.111417\n",
      "E NaN  0.156502  0.053677 -0.035829  1.000000 -0.041430\n",
      "F NaN -0.036669  0.114409  0.111417 -0.041430  1.000000\n"
     ]
    },
    {
     "data": {
      "image/png": "[encoded data removed]",
      "text/plain": [
       "<Figure size 720x576 with 2 Axes>"
      ]
     },
     "metadata": {
      "needs_background": "light"
     },
     "output_type": "display_data"
    }
   ],
   "source": [
    "correlation_matrix_A0 = df_A0.corr()\n",
    "\n",
    "print(correlation_matrix_A0)\n",
    "\n",
    "plt.figure(figsize=(10, 8))\n",
    "sns.heatmap(correlation_matrix_A, annot=True, cmap='coolwarm', fmt=\".2f\", annot_kws={\"size\": 10})\n",
    "plt.title('Correlation Heatmap')\n",
    "plt.show()"
   ]
  },
  {
   "cell_type": "markdown",
   "metadata": {},
   "source": [
    "D = 1"
   ]
  },
  {
   "cell_type": "code",
   "execution_count": 1279,
   "metadata": {},
   "outputs": [
    {
     "data": {
      "text/plain": [
       "(            A         B         C    D         E         F\n",
       " 0   -1.018785  3.862683  3.350245  0.0  0.316641  1.533493\n",
       " 1   -3.212246  1.197418  1.167934  0.0  1.066201  3.269068\n",
       " 2    0.317240  1.635497  2.331159  0.0  1.195570  2.271373\n",
       " 3   -0.681097  5.084106  2.230602  0.0  0.903364  0.980584\n",
       " 4    0.421071  0.824318  2.883962  0.0 -0.981841  1.097874\n",
       " ..        ...       ...       ...  ...       ...       ...\n",
       " 195 -2.076282 -2.867377  3.269972  0.0 -1.305900  4.854440\n",
       " 196 -2.726434  0.560963 -0.044845  0.0  0.698153  3.338264\n",
       " 197 -2.281949  1.527744  0.861748  0.0  1.077447  3.199267\n",
       " 198 -1.320481  2.424535  2.750985  0.0 -1.028180  3.591979\n",
       " 199  0.591324  1.170173  2.811219  0.0  0.329209  1.915552\n",
       " \n",
       " [200 rows x 6 columns],\n",
       "             A         B         C    D         E         F\n",
       " 0   -0.566874  1.581265  1.322118  2.0  1.036978  5.048581\n",
       " 1    3.509003  0.366403  2.470918  2.0 -0.900915  1.384774\n",
       " 2    2.261875  0.396542  2.879492  2.0 -0.336562  2.562482\n",
       " 3    4.115757 -0.181056  3.055866  2.0  0.995404  2.753716\n",
       " 4    4.764129  1.477963 -0.229484  2.0 -0.113939 -0.406384\n",
       " ..        ...       ...       ...  ...       ...       ...\n",
       " 195  2.785428 -2.884853 -0.789137  2.0 -0.981583  2.529155\n",
       " 196  3.851912  0.009494  3.705982  2.0  0.955753  1.078187\n",
       " 197  1.444586 -0.141875  2.434222  2.0  1.122352  2.643512\n",
       " 198  4.463220  2.450333  1.555572  2.0 -0.016038 -0.066408\n",
       " 199  0.926666 -2.753406  0.192596  2.0  0.898332  3.404194\n",
       " \n",
       " [200 rows x 6 columns])"
      ]
     },
     "execution_count": 1279,
     "metadata": {},
     "output_type": "execute_result"
    }
   ],
   "source": [
    "# df_D = pd.read_csv('data_1406.csv')\n",
    "# df_D1 = pd.read_csv('data_1480.csv')\n",
    "# df_D2 = pd.read_csv('data_1495.csv')\n",
    "# df_D = df_D.append(df_D1)\n",
    "# df_D = df_D.append(df_D2)\n",
    "df_D2 = pd.read_csv('data_1682.csv')\n",
    "df_D0 = pd.read_csv('data_1688.csv')\n",
    "df_D0.drop('Unnamed: 0', axis=1, inplace=True)\n",
    "df_D2.drop('Unnamed: 0', axis=1, inplace=True)\n",
    "df_D0, df_D2"
   ]
  },
  {
   "cell_type": "code",
   "execution_count": 1380,
   "metadata": {},
   "outputs": [
    {
     "name": "stdout",
     "output_type": "stream",
     "text": [
      "          A         B         C   D         E         F\n",
      "A  1.000000 -0.287936 -0.116014 NaN -0.022329 -0.703532\n",
      "B -0.287936  1.000000  0.423053 NaN -0.132519  0.158818\n",
      "C -0.116014  0.423053  1.000000 NaN -0.010867  0.117194\n",
      "D       NaN       NaN       NaN NaN       NaN       NaN\n",
      "E -0.022329 -0.132519 -0.010867 NaN  1.000000  0.050484\n",
      "F -0.703532  0.158818  0.117194 NaN  0.050484  1.000000\n"
     ]
    },
    {
     "data": {
      "image/png": "[encoded data removed]",
      "text/plain": [
       "<Figure size 720x576 with 2 Axes>"
      ]
     },
     "metadata": {
      "needs_background": "light"
     },
     "output_type": "display_data"
    }
   ],
   "source": [
    "correlation_matrix_D2 = df_D2.corr()\n",
    "\n",
    "print(correlation_matrix_D2)\n",
    "\n",
    "plt.figure(figsize=(10, 8))\n",
    "sns.heatmap(correlation_matrix_D, annot=True, cmap='coolwarm', fmt=\".2f\", annot_kws={\"size\": 10})\n",
    "plt.title('Correlation Heatmap')\n",
    "plt.show()"
   ]
  },
  {
   "cell_type": "markdown",
   "metadata": {},
   "source": [
    "Når D = 1, så er A og B correlerede, B og C er correlede, A og F er correlede og B og F er correlerede "
   ]
  },
  {
   "cell_type": "markdown",
   "metadata": {},
   "source": [
    "F = 1"
   ]
  },
  {
   "cell_type": "code",
   "execution_count": 1281,
   "metadata": {},
   "outputs": [
    {
     "data": {
      "text/html": [
       "<div>\n",
       "<style scoped>\n",
       "    .dataframe tbody tr th:only-of-type {\n",
       "        vertical-align: middle;\n",
       "    }\n",
       "\n",
       "    .dataframe tbody tr th {\n",
       "        vertical-align: top;\n",
       "    }\n",
       "\n",
       "    .dataframe thead th {\n",
       "        text-align: right;\n",
       "    }\n",
       "</style>\n",
       "<table border=\"1\" class=\"dataframe\">\n",
       "  <thead>\n",
       "    <tr style=\"text-align: right;\">\n",
       "      <th></th>\n",
       "      <th>A</th>\n",
       "      <th>B</th>\n",
       "      <th>C</th>\n",
       "      <th>D</th>\n",
       "      <th>E</th>\n",
       "      <th>F</th>\n",
       "    </tr>\n",
       "  </thead>\n",
       "  <tbody>\n",
       "    <tr>\n",
       "      <th>0</th>\n",
       "      <td>0.893623</td>\n",
       "      <td>5.359251</td>\n",
       "      <td>2.459375</td>\n",
       "      <td>0.004575</td>\n",
       "      <td>-0.071922</td>\n",
       "      <td>2.0</td>\n",
       "    </tr>\n",
       "    <tr>\n",
       "      <th>1</th>\n",
       "      <td>-1.553688</td>\n",
       "      <td>-5.648622</td>\n",
       "      <td>2.179608</td>\n",
       "      <td>0.001110</td>\n",
       "      <td>-0.101332</td>\n",
       "      <td>2.0</td>\n",
       "    </tr>\n",
       "    <tr>\n",
       "      <th>2</th>\n",
       "      <td>1.644286</td>\n",
       "      <td>-2.345704</td>\n",
       "      <td>0.020763</td>\n",
       "      <td>0.797349</td>\n",
       "      <td>-0.953270</td>\n",
       "      <td>2.0</td>\n",
       "    </tr>\n",
       "    <tr>\n",
       "      <th>3</th>\n",
       "      <td>3.682473</td>\n",
       "      <td>-2.942558</td>\n",
       "      <td>-0.184625</td>\n",
       "      <td>0.778628</td>\n",
       "      <td>-1.101149</td>\n",
       "      <td>2.0</td>\n",
       "    </tr>\n",
       "    <tr>\n",
       "      <th>4</th>\n",
       "      <td>3.542384</td>\n",
       "      <td>-3.338860</td>\n",
       "      <td>1.139166</td>\n",
       "      <td>-0.409403</td>\n",
       "      <td>0.956050</td>\n",
       "      <td>2.0</td>\n",
       "    </tr>\n",
       "    <tr>\n",
       "      <th>...</th>\n",
       "      <td>...</td>\n",
       "      <td>...</td>\n",
       "      <td>...</td>\n",
       "      <td>...</td>\n",
       "      <td>...</td>\n",
       "      <td>...</td>\n",
       "    </tr>\n",
       "    <tr>\n",
       "      <th>195</th>\n",
       "      <td>1.584572</td>\n",
       "      <td>0.074392</td>\n",
       "      <td>2.610471</td>\n",
       "      <td>-0.011949</td>\n",
       "      <td>-0.164632</td>\n",
       "      <td>2.0</td>\n",
       "    </tr>\n",
       "    <tr>\n",
       "      <th>196</th>\n",
       "      <td>1.256230</td>\n",
       "      <td>1.421640</td>\n",
       "      <td>2.998980</td>\n",
       "      <td>-0.500719</td>\n",
       "      <td>-1.072253</td>\n",
       "      <td>2.0</td>\n",
       "    </tr>\n",
       "    <tr>\n",
       "      <th>197</th>\n",
       "      <td>-0.567144</td>\n",
       "      <td>0.707264</td>\n",
       "      <td>1.434266</td>\n",
       "      <td>0.204168</td>\n",
       "      <td>-0.824752</td>\n",
       "      <td>2.0</td>\n",
       "    </tr>\n",
       "    <tr>\n",
       "      <th>198</th>\n",
       "      <td>2.320446</td>\n",
       "      <td>-0.973576</td>\n",
       "      <td>2.939227</td>\n",
       "      <td>-0.254326</td>\n",
       "      <td>-1.139225</td>\n",
       "      <td>2.0</td>\n",
       "    </tr>\n",
       "    <tr>\n",
       "      <th>199</th>\n",
       "      <td>-0.712078</td>\n",
       "      <td>-0.444688</td>\n",
       "      <td>-0.983376</td>\n",
       "      <td>-0.145826</td>\n",
       "      <td>-0.716139</td>\n",
       "      <td>2.0</td>\n",
       "    </tr>\n",
       "  </tbody>\n",
       "</table>\n",
       "<p>200 rows × 6 columns</p>\n",
       "</div>"
      ],
      "text/plain": [
       "            A         B         C         D         E    F\n",
       "0    0.893623  5.359251  2.459375  0.004575 -0.071922  2.0\n",
       "1   -1.553688 -5.648622  2.179608  0.001110 -0.101332  2.0\n",
       "2    1.644286 -2.345704  0.020763  0.797349 -0.953270  2.0\n",
       "3    3.682473 -2.942558 -0.184625  0.778628 -1.101149  2.0\n",
       "4    3.542384 -3.338860  1.139166 -0.409403  0.956050  2.0\n",
       "..        ...       ...       ...       ...       ...  ...\n",
       "195  1.584572  0.074392  2.610471 -0.011949 -0.164632  2.0\n",
       "196  1.256230  1.421640  2.998980 -0.500719 -1.072253  2.0\n",
       "197 -0.567144  0.707264  1.434266  0.204168 -0.824752  2.0\n",
       "198  2.320446 -0.973576  2.939227 -0.254326 -1.139225  2.0\n",
       "199 -0.712078 -0.444688 -0.983376 -0.145826 -0.716139  2.0\n",
       "\n",
       "[200 rows x 6 columns]"
      ]
     },
     "execution_count": 1281,
     "metadata": {},
     "output_type": "execute_result"
    }
   ],
   "source": [
    "# df_F = pd.read_csv('data_1407.csv')\n",
    "# df_F1 = pd.read_csv('data_1482.csv')\n",
    "# df_F2 = pd.read_csv('data_1497.csv')\n",
    "# df_F = df_F.append(df_F1)\n",
    "# df_F = df_F.append(df_F2)\n",
    "df_Fm2 = pd.read_csv('data_1685.csv')\n",
    "df_F2 = pd.read_csv('data_1684.csv')\n",
    "df_F2.drop('Unnamed: 0', axis=1, inplace=True)\n",
    "df_Fm2.drop('Unnamed: 0', axis=1, inplace=True)\n",
    "df_F2"
   ]
  },
  {
   "cell_type": "code",
   "execution_count": 1381,
   "metadata": {},
   "outputs": [
    {
     "name": "stdout",
     "output_type": "stream",
     "text": [
      "          A         B         C         D         E   F\n",
      "A  1.000000 -0.221338 -0.168680 -0.076034  0.087735 NaN\n",
      "B -0.221338  1.000000  0.465057  0.087939 -0.017931 NaN\n",
      "C -0.168680  0.465057  1.000000 -0.117401  0.071260 NaN\n",
      "D -0.076034  0.087939 -0.117401  1.000000 -0.080526 NaN\n",
      "E  0.087735 -0.017931  0.071260 -0.080526  1.000000 NaN\n",
      "F       NaN       NaN       NaN       NaN       NaN NaN\n"
     ]
    },
    {
     "data": {
      "image/png": "[encoded data removed]",
      "text/plain": [
       "<Figure size 720x576 with 2 Axes>"
      ]
     },
     "metadata": {
      "needs_background": "light"
     },
     "output_type": "display_data"
    }
   ],
   "source": [
    "correlation_matrix_F2 = df_F2.corr()\n",
    "\n",
    "print(correlation_matrix_F2)\n",
    "\n",
    "plt.figure(figsize=(10, 8))\n",
    "sns.heatmap(correlation_matrix_F, annot=True, cmap='coolwarm', fmt=\".2f\", annot_kws={\"size\": 10})\n",
    "plt.title('Correlation Heatmap')\n",
    "plt.show()"
   ]
  },
  {
   "cell_type": "markdown",
   "metadata": {},
   "source": [
    "B = 1"
   ]
  },
  {
   "cell_type": "code",
   "execution_count": 1283,
   "metadata": {},
   "outputs": [
    {
     "data": {
      "text/html": [
       "<div>\n",
       "<style scoped>\n",
       "    .dataframe tbody tr th:only-of-type {\n",
       "        vertical-align: middle;\n",
       "    }\n",
       "\n",
       "    .dataframe tbody tr th {\n",
       "        vertical-align: top;\n",
       "    }\n",
       "\n",
       "    .dataframe thead th {\n",
       "        text-align: right;\n",
       "    }\n",
       "</style>\n",
       "<table border=\"1\" class=\"dataframe\">\n",
       "  <thead>\n",
       "    <tr style=\"text-align: right;\">\n",
       "      <th></th>\n",
       "      <th>A</th>\n",
       "      <th>B</th>\n",
       "      <th>C</th>\n",
       "      <th>D</th>\n",
       "      <th>E</th>\n",
       "      <th>F</th>\n",
       "    </tr>\n",
       "  </thead>\n",
       "  <tbody>\n",
       "    <tr>\n",
       "      <th>0</th>\n",
       "      <td>-0.061924</td>\n",
       "      <td>2.0</td>\n",
       "      <td>1.097097</td>\n",
       "      <td>0.287163</td>\n",
       "      <td>1.002858</td>\n",
       "      <td>2.120988</td>\n",
       "    </tr>\n",
       "    <tr>\n",
       "      <th>1</th>\n",
       "      <td>-0.233735</td>\n",
       "      <td>2.0</td>\n",
       "      <td>0.287601</td>\n",
       "      <td>1.115109</td>\n",
       "      <td>-1.152015</td>\n",
       "      <td>2.566318</td>\n",
       "    </tr>\n",
       "    <tr>\n",
       "      <th>2</th>\n",
       "      <td>-1.179562</td>\n",
       "      <td>2.0</td>\n",
       "      <td>-0.547905</td>\n",
       "      <td>-0.179220</td>\n",
       "      <td>-1.086187</td>\n",
       "      <td>1.901433</td>\n",
       "    </tr>\n",
       "    <tr>\n",
       "      <th>3</th>\n",
       "      <td>0.060598</td>\n",
       "      <td>2.0</td>\n",
       "      <td>-0.033199</td>\n",
       "      <td>0.411226</td>\n",
       "      <td>0.111347</td>\n",
       "      <td>1.328930</td>\n",
       "    </tr>\n",
       "    <tr>\n",
       "      <th>4</th>\n",
       "      <td>-3.137580</td>\n",
       "      <td>2.0</td>\n",
       "      <td>1.314348</td>\n",
       "      <td>0.270477</td>\n",
       "      <td>0.970443</td>\n",
       "      <td>3.955341</td>\n",
       "    </tr>\n",
       "    <tr>\n",
       "      <th>...</th>\n",
       "      <td>...</td>\n",
       "      <td>...</td>\n",
       "      <td>...</td>\n",
       "      <td>...</td>\n",
       "      <td>...</td>\n",
       "      <td>...</td>\n",
       "    </tr>\n",
       "    <tr>\n",
       "      <th>195</th>\n",
       "      <td>-0.612083</td>\n",
       "      <td>2.0</td>\n",
       "      <td>2.098572</td>\n",
       "      <td>-0.174793</td>\n",
       "      <td>0.520251</td>\n",
       "      <td>1.021571</td>\n",
       "    </tr>\n",
       "    <tr>\n",
       "      <th>196</th>\n",
       "      <td>3.424163</td>\n",
       "      <td>2.0</td>\n",
       "      <td>-2.079765</td>\n",
       "      <td>0.644779</td>\n",
       "      <td>-1.062963</td>\n",
       "      <td>3.686511</td>\n",
       "    </tr>\n",
       "    <tr>\n",
       "      <th>197</th>\n",
       "      <td>0.507210</td>\n",
       "      <td>2.0</td>\n",
       "      <td>3.030201</td>\n",
       "      <td>-0.396515</td>\n",
       "      <td>-1.018167</td>\n",
       "      <td>1.196048</td>\n",
       "    </tr>\n",
       "    <tr>\n",
       "      <th>198</th>\n",
       "      <td>-0.142683</td>\n",
       "      <td>2.0</td>\n",
       "      <td>2.081448</td>\n",
       "      <td>-0.378232</td>\n",
       "      <td>0.941890</td>\n",
       "      <td>2.547996</td>\n",
       "    </tr>\n",
       "    <tr>\n",
       "      <th>199</th>\n",
       "      <td>-2.001441</td>\n",
       "      <td>2.0</td>\n",
       "      <td>3.484782</td>\n",
       "      <td>0.230538</td>\n",
       "      <td>-1.126370</td>\n",
       "      <td>3.345449</td>\n",
       "    </tr>\n",
       "  </tbody>\n",
       "</table>\n",
       "<p>200 rows × 6 columns</p>\n",
       "</div>"
      ],
      "text/plain": [
       "            A    B         C         D         E         F\n",
       "0   -0.061924  2.0  1.097097  0.287163  1.002858  2.120988\n",
       "1   -0.233735  2.0  0.287601  1.115109 -1.152015  2.566318\n",
       "2   -1.179562  2.0 -0.547905 -0.179220 -1.086187  1.901433\n",
       "3    0.060598  2.0 -0.033199  0.411226  0.111347  1.328930\n",
       "4   -3.137580  2.0  1.314348  0.270477  0.970443  3.955341\n",
       "..        ...  ...       ...       ...       ...       ...\n",
       "195 -0.612083  2.0  2.098572 -0.174793  0.520251  1.021571\n",
       "196  3.424163  2.0 -2.079765  0.644779 -1.062963  3.686511\n",
       "197  0.507210  2.0  3.030201 -0.396515 -1.018167  1.196048\n",
       "198 -0.142683  2.0  2.081448 -0.378232  0.941890  2.547996\n",
       "199 -2.001441  2.0  3.484782  0.230538 -1.126370  3.345449\n",
       "\n",
       "[200 rows x 6 columns]"
      ]
     },
     "execution_count": 1283,
     "metadata": {},
     "output_type": "execute_result"
    }
   ],
   "source": [
    "# df_B = pd.read_csv('data_1412.csv')\n",
    "# df_B1 = pd.read_csv('data_1478.csv')\n",
    "# df_B2 = pd.read_csv('data_1493.csv')\n",
    "# df_B = df_B.append(df_B1)\n",
    "# df_B = df_B.append(df_B2)\n",
    "df_B2 = pd.read_csv('data_1680.csv')\n",
    "df_B2.drop('Unnamed: 0', axis=1, inplace=True)\n",
    "df_B0 = pd.read_csv('data_1699.csv')\n",
    "df_B0.drop('Unnamed: 0', axis=1, inplace=True)\n",
    "df_B2"
   ]
  },
  {
   "cell_type": "code",
   "execution_count": 1382,
   "metadata": {},
   "outputs": [
    {
     "name": "stdout",
     "output_type": "stream",
     "text": [
      "          A   B         C         D         E         F\n",
      "A  1.000000 NaN -0.064758  0.063776  0.141126 -0.472112\n",
      "B       NaN NaN       NaN       NaN       NaN       NaN\n",
      "C -0.064758 NaN  1.000000 -0.032594 -0.006833  0.024767\n",
      "D  0.063776 NaN -0.032594  1.000000 -0.007938 -0.141270\n",
      "E  0.141126 NaN -0.006833 -0.007938  1.000000  0.112437\n",
      "F -0.472112 NaN  0.024767 -0.141270  0.112437  1.000000\n"
     ]
    },
    {
     "data": {
      "image/png": "[encoded data removed]",
      "text/plain": [
       "<Figure size 720x576 with 2 Axes>"
      ]
     },
     "metadata": {
      "needs_background": "light"
     },
     "output_type": "display_data"
    }
   ],
   "source": [
    "correlation_matrix_B2 = df_B2.corr()\n",
    "\n",
    "print(correlation_matrix_B)\n",
    "\n",
    "plt.figure(figsize=(10, 8))\n",
    "sns.heatmap(correlation_matrix_B, annot=True, cmap='coolwarm', fmt=\".2f\", annot_kws={\"size\": 10})\n",
    "plt.title('Correlation Heatmap')\n",
    "plt.show()"
   ]
  },
  {
   "cell_type": "code",
   "execution_count": 1285,
   "metadata": {},
   "outputs": [
    {
     "data": {
      "text/html": [
       "<div>\n",
       "<style scoped>\n",
       "    .dataframe tbody tr th:only-of-type {\n",
       "        vertical-align: middle;\n",
       "    }\n",
       "\n",
       "    .dataframe tbody tr th {\n",
       "        vertical-align: top;\n",
       "    }\n",
       "\n",
       "    .dataframe thead th {\n",
       "        text-align: right;\n",
       "    }\n",
       "</style>\n",
       "<table border=\"1\" class=\"dataframe\">\n",
       "  <thead>\n",
       "    <tr style=\"text-align: right;\">\n",
       "      <th></th>\n",
       "      <th>A</th>\n",
       "      <th>B</th>\n",
       "      <th>C</th>\n",
       "      <th>D</th>\n",
       "      <th>E</th>\n",
       "      <th>F</th>\n",
       "    </tr>\n",
       "  </thead>\n",
       "  <tbody>\n",
       "    <tr>\n",
       "      <th>0</th>\n",
       "      <td>1.250972</td>\n",
       "      <td>2.863230</td>\n",
       "      <td>2.0</td>\n",
       "      <td>-0.107571</td>\n",
       "      <td>-0.041845</td>\n",
       "      <td>-0.729961</td>\n",
       "    </tr>\n",
       "    <tr>\n",
       "      <th>1</th>\n",
       "      <td>1.582871</td>\n",
       "      <td>-1.372930</td>\n",
       "      <td>2.0</td>\n",
       "      <td>0.765162</td>\n",
       "      <td>-0.951576</td>\n",
       "      <td>1.799100</td>\n",
       "    </tr>\n",
       "    <tr>\n",
       "      <th>2</th>\n",
       "      <td>-2.301605</td>\n",
       "      <td>2.333679</td>\n",
       "      <td>2.0</td>\n",
       "      <td>-0.284583</td>\n",
       "      <td>1.262573</td>\n",
       "      <td>4.498706</td>\n",
       "    </tr>\n",
       "    <tr>\n",
       "      <th>3</th>\n",
       "      <td>2.987970</td>\n",
       "      <td>-0.578794</td>\n",
       "      <td>2.0</td>\n",
       "      <td>-0.274751</td>\n",
       "      <td>-0.988852</td>\n",
       "      <td>1.561232</td>\n",
       "    </tr>\n",
       "    <tr>\n",
       "      <th>4</th>\n",
       "      <td>-0.686070</td>\n",
       "      <td>0.678166</td>\n",
       "      <td>2.0</td>\n",
       "      <td>0.007933</td>\n",
       "      <td>-0.928923</td>\n",
       "      <td>2.030676</td>\n",
       "    </tr>\n",
       "    <tr>\n",
       "      <th>...</th>\n",
       "      <td>...</td>\n",
       "      <td>...</td>\n",
       "      <td>...</td>\n",
       "      <td>...</td>\n",
       "      <td>...</td>\n",
       "      <td>...</td>\n",
       "    </tr>\n",
       "    <tr>\n",
       "      <th>195</th>\n",
       "      <td>-2.339625</td>\n",
       "      <td>0.984382</td>\n",
       "      <td>2.0</td>\n",
       "      <td>0.145648</td>\n",
       "      <td>1.142741</td>\n",
       "      <td>2.957185</td>\n",
       "    </tr>\n",
       "    <tr>\n",
       "      <th>196</th>\n",
       "      <td>-4.028506</td>\n",
       "      <td>-1.595373</td>\n",
       "      <td>2.0</td>\n",
       "      <td>0.026308</td>\n",
       "      <td>1.149863</td>\n",
       "      <td>5.297825</td>\n",
       "    </tr>\n",
       "    <tr>\n",
       "      <th>197</th>\n",
       "      <td>0.991114</td>\n",
       "      <td>-2.169248</td>\n",
       "      <td>2.0</td>\n",
       "      <td>-1.048462</td>\n",
       "      <td>-1.141551</td>\n",
       "      <td>2.436314</td>\n",
       "    </tr>\n",
       "    <tr>\n",
       "      <th>198</th>\n",
       "      <td>5.539689</td>\n",
       "      <td>-1.688206</td>\n",
       "      <td>2.0</td>\n",
       "      <td>-0.450469</td>\n",
       "      <td>0.714381</td>\n",
       "      <td>0.620362</td>\n",
       "    </tr>\n",
       "    <tr>\n",
       "      <th>199</th>\n",
       "      <td>0.545945</td>\n",
       "      <td>-0.180391</td>\n",
       "      <td>2.0</td>\n",
       "      <td>-0.055894</td>\n",
       "      <td>-0.915830</td>\n",
       "      <td>1.417783</td>\n",
       "    </tr>\n",
       "  </tbody>\n",
       "</table>\n",
       "<p>200 rows × 6 columns</p>\n",
       "</div>"
      ],
      "text/plain": [
       "            A         B    C         D         E         F\n",
       "0    1.250972  2.863230  2.0 -0.107571 -0.041845 -0.729961\n",
       "1    1.582871 -1.372930  2.0  0.765162 -0.951576  1.799100\n",
       "2   -2.301605  2.333679  2.0 -0.284583  1.262573  4.498706\n",
       "3    2.987970 -0.578794  2.0 -0.274751 -0.988852  1.561232\n",
       "4   -0.686070  0.678166  2.0  0.007933 -0.928923  2.030676\n",
       "..        ...       ...  ...       ...       ...       ...\n",
       "195 -2.339625  0.984382  2.0  0.145648  1.142741  2.957185\n",
       "196 -4.028506 -1.595373  2.0  0.026308  1.149863  5.297825\n",
       "197  0.991114 -2.169248  2.0 -1.048462 -1.141551  2.436314\n",
       "198  5.539689 -1.688206  2.0 -0.450469  0.714381  0.620362\n",
       "199  0.545945 -0.180391  2.0 -0.055894 -0.915830  1.417783\n",
       "\n",
       "[200 rows x 6 columns]"
      ]
     },
     "execution_count": 1285,
     "metadata": {},
     "output_type": "execute_result"
    }
   ],
   "source": [
    "# df_C = pd.read_csv('data_1458.csv')\n",
    "# df_C1 = pd.read_csv('data_1479.csv')\n",
    "# df_C2 = pd.read_csv('data_1494.csv')\n",
    "# df_C = df_C.append(df_C1)\n",
    "# df_C = df_C.append(df_C2)\n",
    "df_C2 = pd.read_csv('data_1681.csv')\n",
    "df_C2.drop('Unnamed: 0', axis=1, inplace=True)\n",
    "df_Cm2 = pd.read_csv('data_1700.csv')\n",
    "df_Cm2.drop('Unnamed: 0', axis=1, inplace=True)\n",
    "df_C2"
   ]
  },
  {
   "cell_type": "code",
   "execution_count": 1384,
   "metadata": {},
   "outputs": [
    {
     "name": "stdout",
     "output_type": "stream",
     "text": [
      "          A         B   C         D         E         F\n",
      "A  1.000000 -0.288556 NaN  0.006732 -0.059831 -0.516528\n",
      "B -0.288556  1.000000 NaN  0.024423 -0.001553  0.162698\n",
      "C       NaN       NaN NaN       NaN       NaN       NaN\n",
      "D  0.006732  0.024423 NaN  1.000000  0.053701  0.024536\n",
      "E -0.059831 -0.001553 NaN  0.053701  1.000000  0.043726\n",
      "F -0.516528  0.162698 NaN  0.024536  0.043726  1.000000\n"
     ]
    },
    {
     "data": {
      "image/png": "[encoded data removed]",
      "text/plain": [
       "<Figure size 720x576 with 2 Axes>"
      ]
     },
     "metadata": {
      "needs_background": "light"
     },
     "output_type": "display_data"
    }
   ],
   "source": [
    "correlation_matrix_C2 = df_C2.corr()\n",
    "\n",
    "print(correlation_matrix_C2)\n",
    "\n",
    "plt.figure(figsize=(10, 8))\n",
    "sns.heatmap(correlation_matrix_C, annot=True, cmap='coolwarm', fmt=\".2f\", annot_kws={\"size\": 10})\n",
    "plt.title('Correlation Heatmap')\n",
    "plt.show()"
   ]
  },
  {
   "cell_type": "code",
   "execution_count": 1287,
   "metadata": {},
   "outputs": [
    {
     "data": {
      "text/html": [
       "<div>\n",
       "<style scoped>\n",
       "    .dataframe tbody tr th:only-of-type {\n",
       "        vertical-align: middle;\n",
       "    }\n",
       "\n",
       "    .dataframe tbody tr th {\n",
       "        vertical-align: top;\n",
       "    }\n",
       "\n",
       "    .dataframe thead th {\n",
       "        text-align: right;\n",
       "    }\n",
       "</style>\n",
       "<table border=\"1\" class=\"dataframe\">\n",
       "  <thead>\n",
       "    <tr style=\"text-align: right;\">\n",
       "      <th></th>\n",
       "      <th>A</th>\n",
       "      <th>B</th>\n",
       "      <th>C</th>\n",
       "      <th>D</th>\n",
       "      <th>E</th>\n",
       "      <th>F</th>\n",
       "    </tr>\n",
       "  </thead>\n",
       "  <tbody>\n",
       "    <tr>\n",
       "      <th>0</th>\n",
       "      <td>-4.225573</td>\n",
       "      <td>1.234835</td>\n",
       "      <td>0.895609</td>\n",
       "      <td>-0.121194</td>\n",
       "      <td>2.0</td>\n",
       "      <td>7.971326</td>\n",
       "    </tr>\n",
       "    <tr>\n",
       "      <th>1</th>\n",
       "      <td>-5.962679</td>\n",
       "      <td>1.047712</td>\n",
       "      <td>0.477404</td>\n",
       "      <td>0.196399</td>\n",
       "      <td>2.0</td>\n",
       "      <td>6.765471</td>\n",
       "    </tr>\n",
       "    <tr>\n",
       "      <th>2</th>\n",
       "      <td>-5.124448</td>\n",
       "      <td>3.855793</td>\n",
       "      <td>2.733217</td>\n",
       "      <td>0.366109</td>\n",
       "      <td>2.0</td>\n",
       "      <td>6.996185</td>\n",
       "    </tr>\n",
       "    <tr>\n",
       "      <th>3</th>\n",
       "      <td>-6.231744</td>\n",
       "      <td>2.434804</td>\n",
       "      <td>2.693981</td>\n",
       "      <td>0.250771</td>\n",
       "      <td>2.0</td>\n",
       "      <td>6.960705</td>\n",
       "    </tr>\n",
       "    <tr>\n",
       "      <th>4</th>\n",
       "      <td>-7.766609</td>\n",
       "      <td>3.765629</td>\n",
       "      <td>1.392076</td>\n",
       "      <td>0.040133</td>\n",
       "      <td>2.0</td>\n",
       "      <td>7.971380</td>\n",
       "    </tr>\n",
       "    <tr>\n",
       "      <th>...</th>\n",
       "      <td>...</td>\n",
       "      <td>...</td>\n",
       "      <td>...</td>\n",
       "      <td>...</td>\n",
       "      <td>...</td>\n",
       "      <td>...</td>\n",
       "    </tr>\n",
       "    <tr>\n",
       "      <th>195</th>\n",
       "      <td>0.153406</td>\n",
       "      <td>0.536897</td>\n",
       "      <td>1.984891</td>\n",
       "      <td>-2.079485</td>\n",
       "      <td>2.0</td>\n",
       "      <td>6.156665</td>\n",
       "    </tr>\n",
       "    <tr>\n",
       "      <th>196</th>\n",
       "      <td>-7.373480</td>\n",
       "      <td>1.873191</td>\n",
       "      <td>1.003205</td>\n",
       "      <td>-0.231100</td>\n",
       "      <td>2.0</td>\n",
       "      <td>7.868727</td>\n",
       "    </tr>\n",
       "    <tr>\n",
       "      <th>197</th>\n",
       "      <td>-6.428224</td>\n",
       "      <td>3.265880</td>\n",
       "      <td>3.802730</td>\n",
       "      <td>0.716110</td>\n",
       "      <td>2.0</td>\n",
       "      <td>8.258829</td>\n",
       "    </tr>\n",
       "    <tr>\n",
       "      <th>198</th>\n",
       "      <td>-5.584480</td>\n",
       "      <td>2.398922</td>\n",
       "      <td>2.138115</td>\n",
       "      <td>0.208724</td>\n",
       "      <td>2.0</td>\n",
       "      <td>7.549799</td>\n",
       "    </tr>\n",
       "    <tr>\n",
       "      <th>199</th>\n",
       "      <td>-8.442059</td>\n",
       "      <td>3.104770</td>\n",
       "      <td>1.871307</td>\n",
       "      <td>0.002683</td>\n",
       "      <td>2.0</td>\n",
       "      <td>8.495429</td>\n",
       "    </tr>\n",
       "  </tbody>\n",
       "</table>\n",
       "<p>200 rows × 6 columns</p>\n",
       "</div>"
      ],
      "text/plain": [
       "            A         B         C         D    E         F\n",
       "0   -4.225573  1.234835  0.895609 -0.121194  2.0  7.971326\n",
       "1   -5.962679  1.047712  0.477404  0.196399  2.0  6.765471\n",
       "2   -5.124448  3.855793  2.733217  0.366109  2.0  6.996185\n",
       "3   -6.231744  2.434804  2.693981  0.250771  2.0  6.960705\n",
       "4   -7.766609  3.765629  1.392076  0.040133  2.0  7.971380\n",
       "..        ...       ...       ...       ...  ...       ...\n",
       "195  0.153406  0.536897  1.984891 -2.079485  2.0  6.156665\n",
       "196 -7.373480  1.873191  1.003205 -0.231100  2.0  7.868727\n",
       "197 -6.428224  3.265880  3.802730  0.716110  2.0  8.258829\n",
       "198 -5.584480  2.398922  2.138115  0.208724  2.0  7.549799\n",
       "199 -8.442059  3.104770  1.871307  0.002683  2.0  8.495429\n",
       "\n",
       "[200 rows x 6 columns]"
      ]
     },
     "execution_count": 1287,
     "metadata": {},
     "output_type": "execute_result"
    }
   ],
   "source": [
    "# df_E = pd.read_csv('data_1459.csv')\n",
    "# df_E1 = pd.read_csv('data_1481.csv')\n",
    "# df_E2 = pd.read_csv('data_1496.csv')\n",
    "# df_E = df_E.append(df_E1)\n",
    "# df_E = df_E.append(df_E2)\n",
    "df_E2 = pd.read_csv('data_1683.csv')\n",
    "df_E0 = pd.read_csv('data_1687.csv')\n",
    "df_E0.drop('Unnamed: 0', axis=1, inplace=True)\n",
    "df_E2.drop('Unnamed: 0', axis=1, inplace=True)\n",
    "df_E2"
   ]
  },
  {
   "cell_type": "code",
   "execution_count": 1386,
   "metadata": {},
   "outputs": [
    {
     "name": "stdout",
     "output_type": "stream",
     "text": [
      "          A         B         C         D   E         F\n",
      "A  1.000000 -0.343251  0.073877 -0.006703 NaN -0.392403\n",
      "B -0.343251  1.000000  0.440027  0.064544 NaN  0.052065\n",
      "C  0.073877  0.440027  1.000000  0.123071 NaN -0.123419\n",
      "D -0.006703  0.064544  0.123071  1.000000 NaN  0.010651\n",
      "E       NaN       NaN       NaN       NaN NaN       NaN\n",
      "F -0.392403  0.052065 -0.123419  0.010651 NaN  1.000000\n"
     ]
    },
    {
     "data": {
      "image/png": "[encoded data removed]",
      "text/plain": [
       "<Figure size 720x576 with 2 Axes>"
      ]
     },
     "metadata": {
      "needs_background": "light"
     },
     "output_type": "display_data"
    }
   ],
   "source": [
    "correlation_matrix_E2 = df_E2.corr()\n",
    "\n",
    "print(correlation_matrix_E2)\n",
    "\n",
    "plt.figure(figsize=(10, 8))\n",
    "sns.heatmap(correlation_matrix_E, annot=True, cmap='coolwarm', fmt=\".2f\", annot_kws={\"size\": 10})\n",
    "plt.title('Correlation Heatmap')\n",
    "plt.show()"
   ]
  },
  {
   "cell_type": "code",
   "execution_count": 1289,
   "metadata": {},
   "outputs": [],
   "source": [
    "# df_DminusF = pd.read_csv('data_1466.csv')\n",
    "# df_DminusF.drop('Unnamed: 0', axis=1, inplace=True)\n",
    "# df_DminusF"
   ]
  },
  {
   "cell_type": "code",
   "execution_count": 1290,
   "metadata": {},
   "outputs": [],
   "source": [
    "# df_DF = pd.read_csv('data_1467.csv')\n",
    "# df_DF.drop('Unnamed: 0', axis=1, inplace=True)\n",
    "# df_DF"
   ]
  },
  {
   "cell_type": "code",
   "execution_count": 1291,
   "metadata": {},
   "outputs": [
    {
     "data": {
      "text/html": [
       "<div>\n",
       "<style scoped>\n",
       "    .dataframe tbody tr th:only-of-type {\n",
       "        vertical-align: middle;\n",
       "    }\n",
       "\n",
       "    .dataframe tbody tr th {\n",
       "        vertical-align: top;\n",
       "    }\n",
       "\n",
       "    .dataframe thead th {\n",
       "        text-align: right;\n",
       "    }\n",
       "</style>\n",
       "<table border=\"1\" class=\"dataframe\">\n",
       "  <thead>\n",
       "    <tr style=\"text-align: right;\">\n",
       "      <th></th>\n",
       "      <th>df</th>\n",
       "      <th>df_A1</th>\n",
       "      <th>df_A2</th>\n",
       "      <th>df_B0</th>\n",
       "      <th>df_B2</th>\n",
       "      <th>df_C</th>\n",
       "      <th>df_D2</th>\n",
       "      <th>df_D0</th>\n",
       "      <th>df_E</th>\n",
       "      <th>df_F2</th>\n",
       "      <th>df_Fm2</th>\n",
       "    </tr>\n",
       "  </thead>\n",
       "  <tbody>\n",
       "    <tr>\n",
       "      <th>A</th>\n",
       "      <td>0.333430</td>\n",
       "      <td>1.000000</td>\n",
       "      <td>2.000000</td>\n",
       "      <td>0.258601</td>\n",
       "      <td>0.555466</td>\n",
       "      <td>0.465736</td>\n",
       "      <td>-0.760589</td>\n",
       "      <td>3.314398</td>\n",
       "      <td>0.902951</td>\n",
       "      <td>0.519205</td>\n",
       "      <td>4.393347</td>\n",
       "    </tr>\n",
       "    <tr>\n",
       "      <th>B</th>\n",
       "      <td>0.368820</td>\n",
       "      <td>0.049522</td>\n",
       "      <td>-0.207621</td>\n",
       "      <td>0.000000</td>\n",
       "      <td>2.000000</td>\n",
       "      <td>0.290804</td>\n",
       "      <td>0.538956</td>\n",
       "      <td>-0.479840</td>\n",
       "      <td>0.253315</td>\n",
       "      <td>-0.010540</td>\n",
       "      <td>-0.796217</td>\n",
       "    </tr>\n",
       "    <tr>\n",
       "      <th>C</th>\n",
       "      <td>1.742751</td>\n",
       "      <td>1.851214</td>\n",
       "      <td>2.184678</td>\n",
       "      <td>1.609352</td>\n",
       "      <td>1.572362</td>\n",
       "      <td>2.000000</td>\n",
       "      <td>1.713713</td>\n",
       "      <td>1.648803</td>\n",
       "      <td>1.700934</td>\n",
       "      <td>1.726778</td>\n",
       "      <td>1.358835</td>\n",
       "    </tr>\n",
       "    <tr>\n",
       "      <th>D</th>\n",
       "      <td>-0.010298</td>\n",
       "      <td>0.016284</td>\n",
       "      <td>0.016247</td>\n",
       "      <td>-0.040483</td>\n",
       "      <td>-0.016100</td>\n",
       "      <td>-0.018503</td>\n",
       "      <td>0.000000</td>\n",
       "      <td>2.000000</td>\n",
       "      <td>0.009417</td>\n",
       "      <td>-0.054430</td>\n",
       "      <td>0.025455</td>\n",
       "    </tr>\n",
       "    <tr>\n",
       "      <th>E</th>\n",
       "      <td>0.018991</td>\n",
       "      <td>0.009870</td>\n",
       "      <td>0.058529</td>\n",
       "      <td>-0.061573</td>\n",
       "      <td>-0.015301</td>\n",
       "      <td>0.018810</td>\n",
       "      <td>-0.072290</td>\n",
       "      <td>0.112574</td>\n",
       "      <td>0.000000</td>\n",
       "      <td>-0.036823</td>\n",
       "      <td>0.056024</td>\n",
       "    </tr>\n",
       "    <tr>\n",
       "      <th>F</th>\n",
       "      <td>2.064713</td>\n",
       "      <td>2.008760</td>\n",
       "      <td>1.978415</td>\n",
       "      <td>2.156479</td>\n",
       "      <td>1.973595</td>\n",
       "      <td>2.049570</td>\n",
       "      <td>2.068149</td>\n",
       "      <td>2.107930</td>\n",
       "      <td>0.889827</td>\n",
       "      <td>2.000000</td>\n",
       "      <td>-2.000000</td>\n",
       "    </tr>\n",
       "  </tbody>\n",
       "</table>\n",
       "</div>"
      ],
      "text/plain": [
       "         df     df_A1     df_A2     df_B0     df_B2      df_C     df_D2  \\\n",
       "A  0.333430  1.000000  2.000000  0.258601  0.555466  0.465736 -0.760589   \n",
       "B  0.368820  0.049522 -0.207621  0.000000  2.000000  0.290804  0.538956   \n",
       "C  1.742751  1.851214  2.184678  1.609352  1.572362  2.000000  1.713713   \n",
       "D -0.010298  0.016284  0.016247 -0.040483 -0.016100 -0.018503  0.000000   \n",
       "E  0.018991  0.009870  0.058529 -0.061573 -0.015301  0.018810 -0.072290   \n",
       "F  2.064713  2.008760  1.978415  2.156479  1.973595  2.049570  2.068149   \n",
       "\n",
       "      df_D0      df_E     df_F2    df_Fm2  \n",
       "A  3.314398  0.902951  0.519205  4.393347  \n",
       "B -0.479840  0.253315 -0.010540 -0.796217  \n",
       "C  1.648803  1.700934  1.726778  1.358835  \n",
       "D  2.000000  0.009417 -0.054430  0.025455  \n",
       "E  0.112574  0.000000 -0.036823  0.056024  \n",
       "F  2.107930  0.889827  2.000000 -2.000000  "
      ]
     },
     "execution_count": 1291,
     "metadata": {},
     "output_type": "execute_result"
    }
   ],
   "source": [
    "# make a table of the mean of each column for each df_* \n",
    "table_mean = pd.concat([df.mean(), df_A1.mean(), df_A2.mean(), df_B0.mean(), df_B2.mean(), df_C.mean(), df_D0.mean(), df_D2.mean(), df_E.mean(), df_F2.mean(), df_Fm2.mean()], axis=1)\n",
    "table_mean.columns = ['df', 'df_A1', 'df_A2', 'df_B0', 'df_B2', 'df_C', 'df_D2', 'df_D0','df_E', 'df_F2', 'df_Fm2']\n",
    "table_mean"
   ]
  },
  {
   "cell_type": "code",
   "execution_count": 1292,
   "metadata": {},
   "outputs": [],
   "source": [
    "from scipy.stats import ttest_ind"
   ]
  },
  {
   "cell_type": "code",
   "execution_count": 1293,
   "metadata": {},
   "outputs": [
    {
     "name": "stderr",
     "output_type": "stream",
     "text": [
      "c:\\Users\\nunni\\anaconda3\\lib\\site-packages\\scipy\\stats\\_axis_nan_policy.py:523: RuntimeWarning: Precision loss occurred in moment calculation due to catastrophic cancellation. This occurs when the data are nearly identical. Results may be unreliable.\n",
      "  res = hypotest_fun_out(*samples, **kwds)\n"
     ]
    },
    {
     "data": {
      "text/plain": [
       "(TtestResult(statistic=-inf, pvalue=0.0, df=398.0),\n",
       " TtestResult(statistic=5.466602559305246, pvalue=8.112379169954964e-08, df=398.0),\n",
       " TtestResult(statistic=-6.255273509981117, pvalue=1.0253938784909434e-09, df=398.0),\n",
       " TtestResult(statistic=-0.05862610563788322, pvalue=0.9532793406702312, df=398.0),\n",
       " TtestResult(statistic=-1.2777396646951695, pvalue=0.2020859990764445, df=398.0),\n",
       " TtestResult(statistic=-0.3910959534580142, pvalue=0.6959355898842235, df=398.0))"
      ]
     },
     "execution_count": 1293,
     "metadata": {},
     "output_type": "execute_result"
    }
   ],
   "source": [
    "ttest_AA = ttest_ind(df_A0['A'], df_A2['A']) # significant\n",
    "ttest_BA = ttest_ind(df_A0['B'], df_A2['B']) # significant\n",
    "ttest_CA = ttest_ind(df_A0['C'], df_A2['C']) # not significant\n",
    "ttest_DA = ttest_ind(df_A0['D'], df_A2['D']) # not significant\n",
    "ttest_EA = ttest_ind(df_A0['E'], df_A2['E']) # not significant\n",
    "ttest_FA = ttest_ind(df_A0['F'], df_A2['F']) # not significant\n",
    "\n",
    "ttest_AA, ttest_BA, ttest_CA, ttest_DA, ttest_EA, ttest_FA"
   ]
  },
  {
   "cell_type": "code",
   "execution_count": 1294,
   "metadata": {},
   "outputs": [
    {
     "data": {
      "text/plain": [
       "(TtestResult(statistic=-1.5425893054547952, pvalue=0.12372514883202447, df=398.0),\n",
       " TtestResult(statistic=-inf, pvalue=0.0, df=398.0),\n",
       " TtestResult(statistic=0.2586736933587626, pvalue=0.7960207409819533, df=398.0),\n",
       " TtestResult(statistic=-0.3540615522773774, pvalue=0.7234802519905175, df=398.0),\n",
       " TtestResult(statistic=-0.5553991961842898, pvalue=0.5789336778621843, df=398.0),\n",
       " TtestResult(statistic=1.3653304649219302, pvalue=0.1729204016818478, df=398.0))"
      ]
     },
     "execution_count": 1294,
     "metadata": {},
     "output_type": "execute_result"
    }
   ],
   "source": [
    "ttest_AB = ttest_ind(df_B0['A'], df_B2['A']) # not significant \n",
    "ttest_BB = ttest_ind(df_B0['B'], df_B2['B']) # significant\n",
    "ttest_CB = ttest_ind(df_B0['C'], df_B2['C']) # significant\n",
    "ttest_DB = ttest_ind(df_B0['D'], df_B2['D']) # not significant\n",
    "ttest_EB = ttest_ind(df_B0['E'], df_B2['E']) # not significant\n",
    "ttest_FB = ttest_ind(df_B0['F'], df_B2['F']) # not significant\n",
    "\n",
    "ttest_AB, ttest_BB, ttest_CB, ttest_DB, ttest_EB, ttest_FB"
   ]
  },
  {
   "cell_type": "code",
   "execution_count": 1295,
   "metadata": {},
   "outputs": [
    {
     "data": {
      "text/plain": [
       "(TtestResult(statistic=0.17376149065242405, pvalue=0.8621412531140267, df=398.0),\n",
       " TtestResult(statistic=0.3452335431838373, pvalue=0.7301011849695975, df=398.0),\n",
       " TtestResult(statistic=inf, pvalue=0.0, df=398.0),\n",
       " TtestResult(statistic=-0.9156536121116208, pvalue=0.3604030447016646, df=398.0),\n",
       " TtestResult(statistic=1.0302570320133353, pvalue=0.3035150351252234, df=398.0),\n",
       " TtestResult(statistic=0.18839780039250312, pvalue=0.850660846266987, df=398.0))"
      ]
     },
     "execution_count": 1295,
     "metadata": {},
     "output_type": "execute_result"
    }
   ],
   "source": [
    "ttest_AC = ttest_ind(df_C2['A'], df_Cm2['A']) # not significant\n",
    "ttest_BC = ttest_ind(df_C2['B'], df_Cm2['B']) # not significant\n",
    "ttest_CC = ttest_ind(df_C2['C'], df_Cm2['C']) # significant\n",
    "ttest_DC = ttest_ind(df_C2['D'], df_Cm2['D']) # not significant\n",
    "ttest_EC = ttest_ind(df_C2['E'], df_Cm2['E']) # not significant\n",
    "ttest_FC = ttest_ind(df_C2['F'], df_Cm2['F']) # not significant\n",
    "\n",
    "ttest_AC, ttest_BC, ttest_CC, ttest_DC, ttest_EC, ttest_FC"
   ]
  },
  {
   "cell_type": "code",
   "execution_count": 1296,
   "metadata": {},
   "outputs": [
    {
     "data": {
      "text/plain": [
       "(TtestResult(statistic=-21.53852746555728, pvalue=9.02208616516529e-69, df=398.0),\n",
       " TtestResult(statistic=5.527842151310694, pvalue=5.8754534633175004e-08, df=398.0),\n",
       " TtestResult(statistic=0.4693566680807776, pvalue=0.6390717340909922, df=398.0),\n",
       " TtestResult(statistic=-inf, pvalue=0.0, df=398.0),\n",
       " TtestResult(statistic=-2.213238668481202, pvalue=0.027447803913583833, df=398.0),\n",
       " TtestResult(statistic=-0.2815528254474254, pvalue=0.77843274556018, df=398.0))"
      ]
     },
     "execution_count": 1296,
     "metadata": {},
     "output_type": "execute_result"
    }
   ],
   "source": [
    "ttest_AD = ttest_ind(df_D0['A'], df_D2['A']) # significant\n",
    "ttest_BD = ttest_ind(df_D0['B'], df_D2['B']) # significant\n",
    "ttest_CD = ttest_ind(df_D0['C'], df_D2['C']) # significant\n",
    "ttest_DD = ttest_ind(df_D0['D'], df_D2['D']) # significant \n",
    "ttest_ED = ttest_ind(df_D0['E'], df_D2['E']) # not significant\n",
    "ttest_FD = ttest_ind(df_D0['F'], df_D2['F']) # not significant\n",
    "\n",
    "ttest_AD, ttest_BD, ttest_CD, ttest_DD, ttest_ED, ttest_FD"
   ]
  },
  {
   "cell_type": "code",
   "execution_count": 1297,
   "metadata": {},
   "outputs": [
    {
     "data": {
      "text/plain": [
       "(TtestResult(statistic=20.935604276046252, pvalue=3.6962707069121496e-66, df=398.0),\n",
       " TtestResult(statistic=-6.299401575240679, pvalue=7.921107913035692e-10, df=398.0),\n",
       " TtestResult(statistic=1.4738242007702353, pvalue=0.14131940449172228, df=398.0),\n",
       " TtestResult(statistic=-2.910830026531213, pvalue=0.0038073278955598334, df=398.0),\n",
       " TtestResult(statistic=-inf, pvalue=0.0, df=398.0),\n",
       " TtestResult(statistic=-63.545035095783405, pvalue=1.7701189540903877e-210, df=398.0))"
      ]
     },
     "execution_count": 1297,
     "metadata": {},
     "output_type": "execute_result"
    }
   ],
   "source": [
    "ttest_AE = ttest_ind(df_E0['A'], df_E2['A']) # not significant\n",
    "ttest_BE = ttest_ind(df_E0['B'], df_E2['B']) # not significant\n",
    "ttest_CE = ttest_ind(df_E0['C'], df_E2['C']) # significant\n",
    "ttest_DE = ttest_ind(df_E0['D'], df_E2['D']) # not significant\n",
    "ttest_EE = ttest_ind(df_E0['E'], df_E2['E']) # significant\n",
    "ttest_FE = ttest_ind(df_E0['F'], df_E2['F']) # significant\n",
    "\n",
    "ttest_AE, ttest_BE, ttest_CE, ttest_DE, ttest_EE, ttest_FE"
   ]
  },
  {
   "cell_type": "code",
   "execution_count": 1298,
   "metadata": {},
   "outputs": [
    {
     "data": {
      "text/plain": [
       "(TtestResult(statistic=-21.64220352653859, pvalue=3.2108641995555533e-69, df=398.0),\n",
       " TtestResult(statistic=4.425840940707697, pvalue=1.2421490811396124e-05, df=398.0),\n",
       " TtestResult(statistic=2.6516148674403826, pvalue=0.008330823548495514, df=398.0),\n",
       " TtestResult(statistic=-1.126968603620561, pvalue=0.26043474920012183, df=398.0),\n",
       " TtestResult(statistic=-1.0893864977264418, pvalue=0.2766426444844001, df=398.0),\n",
       " TtestResult(statistic=inf, pvalue=0.0, df=398.0))"
      ]
     },
     "execution_count": 1298,
     "metadata": {},
     "output_type": "execute_result"
    }
   ],
   "source": [
    "ttest_AF = ttest_ind(df_F2['A'], df_Fm2['A']) # significant\n",
    "ttest_BF = ttest_ind(df_F2['B'], df_Fm2['B']) # significant\n",
    "ttest_CF = ttest_ind(df_F2['C'], df_Fm2['C']) # not significant\n",
    "ttest_DF = ttest_ind(df_F2['D'], df_Fm2['D']) # not significant\n",
    "ttest_EF = ttest_ind(df_F2['E'], df_Fm2['E']) # not significant\n",
    "ttest_FF = ttest_ind(df_F2['F'], df_Fm2['F']) # significant\n",
    "\n",
    "ttest_AF, ttest_BF, ttest_CF, ttest_DF, ttest_EF, ttest_FF"
   ]
  },
  {
   "cell_type": "code",
   "execution_count": 1299,
   "metadata": {},
   "outputs": [],
   "source": [
    "# ttest_DFA = ttest_ind(df['A'], df_DF['A']) # significant\n",
    "# ttest_DFB = ttest_ind(df['B'], df_DF['B']) # significant\n",
    "# ttest_DFC = ttest_ind(df['C'], df_DF['C']) # significant\n",
    "# ttest_DFE = ttest_ind(df['E'], df_DF['E']) # significant\n",
    "\n",
    "# ttest_DFA, ttest_DFB, ttest_DFC, ttest_DFE"
   ]
  },
  {
   "cell_type": "code",
   "execution_count": 1300,
   "metadata": {},
   "outputs": [],
   "source": [
    "# ttest_D_FA = ttest_ind(df['A'], df_DminusF['A']) # significant\n",
    "# ttest_D_FB = ttest_ind(df['B'], df_DminusF['B']) # significant\n",
    "# ttest_D_FC = ttest_ind(df['C'], df_DminusF['C']) # significant\n",
    "# ttest_D_FE = ttest_ind(df['E'], df_DminusF['E']) # not significant\n",
    "\n",
    "# ttest_D_FA, ttest_D_FB, ttest_D_FC, ttest_D_FE"
   ]
  },
  {
   "cell_type": "code",
   "execution_count": 1301,
   "metadata": {},
   "outputs": [
    {
     "data": {
      "text/plain": [
       "(0.33343008689593295,\n",
       " 0.3688204571052875,\n",
       " 1.7427510005046511,\n",
       " -0.010298282576225141,\n",
       " 0.018991330608664248,\n",
       " 2.064712627269456)"
      ]
     },
     "execution_count": 1301,
     "metadata": {},
     "output_type": "execute_result"
    }
   ],
   "source": [
    "df['A'].mean(), df['B'].mean(), df['C'].mean(), df['D'].mean(), df['E'].mean(), df['F'].mean()"
   ]
  },
  {
   "cell_type": "code",
   "execution_count": 1390,
   "metadata": {},
   "outputs": [
    {
     "data": {
      "text/html": [
       "<div>\n",
       "<style scoped>\n",
       "    .dataframe tbody tr th:only-of-type {\n",
       "        vertical-align: middle;\n",
       "    }\n",
       "\n",
       "    .dataframe tbody tr th {\n",
       "        vertical-align: top;\n",
       "    }\n",
       "\n",
       "    .dataframe thead th {\n",
       "        text-align: right;\n",
       "    }\n",
       "</style>\n",
       "<table border=\"1\" class=\"dataframe\">\n",
       "  <thead>\n",
       "    <tr style=\"text-align: right;\">\n",
       "      <th></th>\n",
       "      <th>A</th>\n",
       "      <th>B</th>\n",
       "      <th>C</th>\n",
       "      <th>D</th>\n",
       "      <th>E</th>\n",
       "      <th>F</th>\n",
       "    </tr>\n",
       "  </thead>\n",
       "  <tbody>\n",
       "    <tr>\n",
       "      <th>A = 0, A = 2</th>\n",
       "      <td>0.00000</td>\n",
       "      <td>0.00000</td>\n",
       "      <td>0.00000</td>\n",
       "      <td>0.95328</td>\n",
       "      <td>0.20209</td>\n",
       "      <td>0.69594</td>\n",
       "    </tr>\n",
       "    <tr>\n",
       "      <th>B = 0, B = 2</th>\n",
       "      <td>0.12373</td>\n",
       "      <td>0.00000</td>\n",
       "      <td>0.79602</td>\n",
       "      <td>0.72348</td>\n",
       "      <td>0.57893</td>\n",
       "      <td>0.17292</td>\n",
       "    </tr>\n",
       "    <tr>\n",
       "      <th>C = 2, C = -2</th>\n",
       "      <td>0.86214</td>\n",
       "      <td>0.73010</td>\n",
       "      <td>0.00000</td>\n",
       "      <td>0.36040</td>\n",
       "      <td>0.30352</td>\n",
       "      <td>0.85066</td>\n",
       "    </tr>\n",
       "    <tr>\n",
       "      <th>D = 0, D = 2</th>\n",
       "      <td>0.00000</td>\n",
       "      <td>0.00000</td>\n",
       "      <td>0.63907</td>\n",
       "      <td>0.00000</td>\n",
       "      <td>0.02745</td>\n",
       "      <td>0.77843</td>\n",
       "    </tr>\n",
       "    <tr>\n",
       "      <th>E = 0, E = -2</th>\n",
       "      <td>0.00000</td>\n",
       "      <td>0.00000</td>\n",
       "      <td>0.14132</td>\n",
       "      <td>0.00381</td>\n",
       "      <td>0.00000</td>\n",
       "      <td>0.00000</td>\n",
       "    </tr>\n",
       "    <tr>\n",
       "      <th>F = 2, F = -2</th>\n",
       "      <td>0.00000</td>\n",
       "      <td>0.00001</td>\n",
       "      <td>0.00833</td>\n",
       "      <td>0.26043</td>\n",
       "      <td>0.27664</td>\n",
       "      <td>0.00000</td>\n",
       "    </tr>\n",
       "  </tbody>\n",
       "</table>\n",
       "</div>"
      ],
      "text/plain": [
       "                     A        B        C        D        E        F\n",
       "A = 0, A = 2   0.00000  0.00000  0.00000  0.95328  0.20209  0.69594\n",
       "B = 0, B = 2   0.12373  0.00000  0.79602  0.72348  0.57893  0.17292\n",
       "C = 2, C = -2  0.86214  0.73010  0.00000  0.36040  0.30352  0.85066\n",
       "D = 0, D = 2   0.00000  0.00000  0.63907  0.00000  0.02745  0.77843\n",
       "E = 0, E = -2  0.00000  0.00000  0.14132  0.00381  0.00000  0.00000\n",
       "F = 2, F = -2  0.00000  0.00001  0.00833  0.26043  0.27664  0.00000"
      ]
     },
     "execution_count": 1390,
     "metadata": {},
     "output_type": "execute_result"
    }
   ],
   "source": [
    "# make a table containing all the pvalues from the t-test results\n",
    "table_ttest = pd.DataFrame({'A': [ttest_AA.pvalue, ttest_AB.pvalue, ttest_AC.pvalue, ttest_AD.pvalue, ttest_AE.pvalue, ttest_AF.pvalue],\n",
    "                            'B': [ttest_BA.pvalue, ttest_BB.pvalue, ttest_BC.pvalue, ttest_BD.pvalue, ttest_BE.pvalue, ttest_BF.pvalue],\n",
    "                            'C': [ttest_CA.pvalue, ttest_CB.pvalue, ttest_CC.pvalue, ttest_CD.pvalue, ttest_CE.pvalue, ttest_CF.pvalue],\n",
    "                            'D': [ttest_DA.pvalue, ttest_DB.pvalue, ttest_DC.pvalue, ttest_DD.pvalue, ttest_DE.pvalue, ttest_DF.pvalue],\n",
    "                            'E': [ttest_EA.pvalue, ttest_EB.pvalue, ttest_EC.pvalue, ttest_ED.pvalue, ttest_EE.pvalue, ttest_EF.pvalue],\n",
    "                            'F': [ttest_FA.pvalue, ttest_FB.pvalue, ttest_FC.pvalue, ttest_FD.pvalue, ttest_FE.pvalue, ttest_FF.pvalue],},\n",
    "                           index=['A = 0, A = 2', 'B = 0, B = 2', 'C = 2, C = -2', 'D = 0, D = 2', 'E = 0, E = -2', 'F = 2, F = -2'])\n",
    "\n",
    "#only show values with 3 decimal places\n",
    "table_ttest = table_ttest.round(5)\n",
    "table_ttest"
   ]
  },
  {
   "cell_type": "code",
   "execution_count": 1372,
   "metadata": {},
   "outputs": [
    {
     "data": {
      "text/plain": [
       "MannwhitneyuResult(statistic=0.0, pvalue=9.182598395744396e-89)"
      ]
     },
     "execution_count": 1372,
     "metadata": {},
     "output_type": "execute_result"
    }
   ],
   "source": [
    "#Make mannwhitneyu test on all the samples that have been tested with t-test\n",
    "from scipy.stats import mannwhitneyu\n",
    "AA = mannwhitneyu(df_A0['A'], df_A2['A'])\n",
    "BA = mannwhitneyu(df_A0['B'], df_A2['B'])\n",
    "CA = mannwhitneyu(df_A0['C'], df_A2['C'])\n",
    "DA = mannwhitneyu(df_A0['D'], df_A2['D'])\n",
    "EA = mannwhitneyu(df_A0['E'], df_A2['E'])\n",
    "FA = mannwhitneyu(df_A0['F'], df_A2['F'])\n",
    "\n",
    "AB = mannwhitneyu(df_B0['A'], df_B2['A'])\n",
    "BB = mannwhitneyu(df_B0['B'], df_B2['B'])\n",
    "CB = mannwhitneyu(df_B0['C'], df_B2['C'])\n",
    "DB = mannwhitneyu(df_B0['D'], df_B2['D'])\n",
    "EB = mannwhitneyu(df_B0['E'], df_B2['E'])\n",
    "FB = mannwhitneyu(df_B0['F'], df_B2['F'])\n",
    "\n",
    "AC = mannwhitneyu(df_C2['A'], df_Cm2['A'])\n",
    "BC = mannwhitneyu(df_C2['B'], df_Cm2['B'])\n",
    "CC = mannwhitneyu(df_C2['C'], df_Cm2['C'])\n",
    "DC = mannwhitneyu(df_C2['D'], df_Cm2['D'])\n",
    "EC = mannwhitneyu(df_C2['E'], df_Cm2['E'])\n",
    "FC = mannwhitneyu(df_C2['F'], df_Cm2['F'])\n",
    "\n",
    "AD = mannwhitneyu(df_D0['A'], df_D2['A'])\n",
    "BD = mannwhitneyu(df_D0['B'], df_D2['B'])\n",
    "CD = mannwhitneyu(df_D0['C'], df_D2['C'])\n",
    "DD = mannwhitneyu(df_D0['D'], df_D2['D'])\n",
    "ED = mannwhitneyu(df_D0['E'], df_D2['E'])\n",
    "FD = mannwhitneyu(df_D0['F'], df_D2['F'])\n",
    "\n",
    "AE = mannwhitneyu(df_E0['A'], df_E2['A'])\n",
    "BE = mannwhitneyu(df_E0['B'], df_E2['B'])\n",
    "CE = mannwhitneyu(df_E0['C'], df_E2['C'])\n",
    "DE = mannwhitneyu(df_E0['D'], df_E2['D'])\n",
    "EE = mannwhitneyu(df_E0['E'], df_E2['E'])\n",
    "FE = mannwhitneyu(df_E0['F'], df_E2['F'])\n",
    "\n",
    "AF = mannwhitneyu(df_F2['A'], df_Fm2['A'])\n",
    "BF = mannwhitneyu(df_F2['B'], df_Fm2['B'])\n",
    "CF = mannwhitneyu(df_F2['C'], df_Fm2['C'])\n",
    "DF = mannwhitneyu(df_F2['D'], df_Fm2['D'])\n",
    "EF = mannwhitneyu(df_F2['E'], df_Fm2['E'])\n",
    "FF = mannwhitneyu(df_F2['F'], df_Fm2['F'])\n"
   ]
  },
  {
   "cell_type": "code",
   "execution_count": 1389,
   "metadata": {},
   "outputs": [
    {
     "data": {
      "text/html": [
       "<div>\n",
       "<style scoped>\n",
       "    .dataframe tbody tr th:only-of-type {\n",
       "        vertical-align: middle;\n",
       "    }\n",
       "\n",
       "    .dataframe tbody tr th {\n",
       "        vertical-align: top;\n",
       "    }\n",
       "\n",
       "    .dataframe thead th {\n",
       "        text-align: right;\n",
       "    }\n",
       "</style>\n",
       "<table border=\"1\" class=\"dataframe\">\n",
       "  <thead>\n",
       "    <tr style=\"text-align: right;\">\n",
       "      <th></th>\n",
       "      <th>A</th>\n",
       "      <th>B</th>\n",
       "      <th>C</th>\n",
       "      <th>D</th>\n",
       "      <th>E</th>\n",
       "      <th>F</th>\n",
       "    </tr>\n",
       "  </thead>\n",
       "  <tbody>\n",
       "    <tr>\n",
       "      <th>A = 0, A = 2</th>\n",
       "      <td>0.00000</td>\n",
       "      <td>0.00000</td>\n",
       "      <td>0.00000</td>\n",
       "      <td>0.94518</td>\n",
       "      <td>0.18017</td>\n",
       "      <td>0.66949</td>\n",
       "    </tr>\n",
       "    <tr>\n",
       "      <th>B = 0, B = 2</th>\n",
       "      <td>0.27674</td>\n",
       "      <td>0.00000</td>\n",
       "      <td>0.93830</td>\n",
       "      <td>0.53657</td>\n",
       "      <td>0.69296</td>\n",
       "      <td>0.16362</td>\n",
       "    </tr>\n",
       "    <tr>\n",
       "      <th>C = 2, C = -2</th>\n",
       "      <td>0.88139</td>\n",
       "      <td>0.77631</td>\n",
       "      <td>0.00000</td>\n",
       "      <td>0.18328</td>\n",
       "      <td>0.30274</td>\n",
       "      <td>0.88754</td>\n",
       "    </tr>\n",
       "    <tr>\n",
       "      <th>D = 0, D = 2</th>\n",
       "      <td>0.00000</td>\n",
       "      <td>0.00000</td>\n",
       "      <td>0.72060</td>\n",
       "      <td>0.00000</td>\n",
       "      <td>0.02550</td>\n",
       "      <td>0.59207</td>\n",
       "    </tr>\n",
       "    <tr>\n",
       "      <th>E = 0, E = -2</th>\n",
       "      <td>0.00000</td>\n",
       "      <td>0.00000</td>\n",
       "      <td>0.09076</td>\n",
       "      <td>0.00008</td>\n",
       "      <td>0.00000</td>\n",
       "      <td>0.00000</td>\n",
       "    </tr>\n",
       "    <tr>\n",
       "      <th>F = 2, F = -2</th>\n",
       "      <td>0.00000</td>\n",
       "      <td>0.00000</td>\n",
       "      <td>0.00427</td>\n",
       "      <td>0.26322</td>\n",
       "      <td>0.43911</td>\n",
       "      <td>0.00000</td>\n",
       "    </tr>\n",
       "  </tbody>\n",
       "</table>\n",
       "</div>"
      ],
      "text/plain": [
       "                     A        B        C        D        E        F\n",
       "A = 0, A = 2   0.00000  0.00000  0.00000  0.94518  0.18017  0.66949\n",
       "B = 0, B = 2   0.27674  0.00000  0.93830  0.53657  0.69296  0.16362\n",
       "C = 2, C = -2  0.88139  0.77631  0.00000  0.18328  0.30274  0.88754\n",
       "D = 0, D = 2   0.00000  0.00000  0.72060  0.00000  0.02550  0.59207\n",
       "E = 0, E = -2  0.00000  0.00000  0.09076  0.00008  0.00000  0.00000\n",
       "F = 2, F = -2  0.00000  0.00000  0.00427  0.26322  0.43911  0.00000"
      ]
     },
     "execution_count": 1389,
     "metadata": {},
     "output_type": "execute_result"
    }
   ],
   "source": [
    "#Make a table of the p_values from the mannwhitneyu tests\n",
    "table_mannwhitneyu = pd.DataFrame({'A': [AA.pvalue, AB.pvalue, AC.pvalue, AD.pvalue, AE.pvalue, AF.pvalue],\n",
    "                            'B': [BA.pvalue, BB.pvalue, BC.pvalue, BD.pvalue, BE.pvalue, BF.pvalue],\n",
    "                            'C': [CA.pvalue, CB.pvalue, CC.pvalue, CD.pvalue, CE.pvalue, CF.pvalue],\n",
    "                            'D': [DA.pvalue, DB.pvalue, DC.pvalue, DD.pvalue, DE.pvalue, DF.pvalue],\n",
    "                            'E': [EA.pvalue, EB.pvalue, EC.pvalue, ED.pvalue, EE.pvalue, EF.pvalue],\n",
    "                            'F': [FA.pvalue, FB.pvalue, FC.pvalue, FD.pvalue, FE.pvalue, FF.pvalue],},\n",
    "                           index=['A = 0, A = 2', 'B = 0, B = 2', 'C = 2, C = -2', 'D = 0, D = 2', 'E = 0, E = -2', 'F = 2, F = -2'])\n",
    "\n",
    "table_mannwhitneyu.round(5)"
   ]
  },
  {
   "cell_type": "code",
   "execution_count": 1303,
   "metadata": {},
   "outputs": [],
   "source": [
    "# A ændrer sig mærkant når F sættes til 1, men F ændrer sig ikke mærkbart når A sættes til 1\n",
    "# B ændrer sig mærkant når både D og F sættes til 1, hverken D eller F ændrer sig mærkbart når B sættes til 1\n",
    "# C ændrer sig mærkant når både B, D og F sættes til 1, F ændrer sig når C sættes til 1\n",
    "# Når E ændres til 1, ændre F sig significant "
   ]
  },
  {
   "cell_type": "code",
   "execution_count": 1304,
   "metadata": {},
   "outputs": [],
   "source": [
    "# df_00001x = pd.read_csv('data_1500.csv')\n",
    "# df_00001x.drop('Unnamed: 0', axis=1, inplace=True)\n",
    "# df_00001x"
   ]
  },
  {
   "cell_type": "code",
   "execution_count": 1305,
   "metadata": {},
   "outputs": [],
   "source": [
    "# ttest_00001x = ttest_ind(df['F'], df_00001x['F']) # significant\n",
    "# ttest_00001x"
   ]
  },
  {
   "cell_type": "code",
   "execution_count": 1306,
   "metadata": {},
   "outputs": [],
   "source": [
    "# df_x00001 = pd.read_csv('data_1501.csv')\n",
    "# df_x00001.drop('Unnamed: 0', axis=1, inplace=True)\n",
    "# df_x00001"
   ]
  },
  {
   "cell_type": "code",
   "execution_count": 1307,
   "metadata": {},
   "outputs": [],
   "source": [
    "# ttest_x00001 = ttest_ind(df['A'], df_x00001['A']) # not significant\n",
    "# ttest_x00001"
   ]
  },
  {
   "cell_type": "code",
   "execution_count": 1308,
   "metadata": {},
   "outputs": [],
   "source": [
    "# df_00x010 = pd.read_csv('data_1503.csv')\n",
    "# df_00x010.drop('Unnamed: 0', axis=1, inplace=True)\n",
    "# df_00x010"
   ]
  },
  {
   "cell_type": "code",
   "execution_count": 1309,
   "metadata": {},
   "outputs": [],
   "source": [
    "# ttest_00x010 = ttest_ind(df['C'], df_00x010['C']) # significant\n",
    "# ttest_00x010"
   ]
  },
  {
   "cell_type": "code",
   "execution_count": 1310,
   "metadata": {},
   "outputs": [],
   "source": [
    "# df_0x0001 = pd.read_csv('data_1504.csv')\n",
    "# df_0x0001.drop('Unnamed: 0', axis=1, inplace=True)\n",
    "# df_0x0001"
   ]
  },
  {
   "cell_type": "code",
   "execution_count": 1311,
   "metadata": {},
   "outputs": [],
   "source": [
    "# ttest_0x0001 = ttest_ind(df['B'], df_0x0001['B']) # not significant\n",
    "# ttest_0x0001"
   ]
  },
  {
   "cell_type": "code",
   "execution_count": 1312,
   "metadata": {},
   "outputs": [],
   "source": [
    "# df_0x0100 = pd.read_csv('data_1505.csv')\n",
    "# df_0x0100.drop('Unnamed: 0', axis=1, inplace=True)\n",
    "# df_0x0100"
   ]
  },
  {
   "cell_type": "code",
   "execution_count": 1313,
   "metadata": {},
   "outputs": [],
   "source": [
    "# ttest_0x0100 = ttest_ind(df['B'], df_0x0100['B']) # not significant\n",
    "# ttest_0x0100"
   ]
  },
  {
   "cell_type": "code",
   "execution_count": 1314,
   "metadata": {},
   "outputs": [],
   "source": [
    "# df_x00100 = pd.read_csv('data_1506.csv')\n",
    "# df_x00100.drop('Unnamed: 0', axis=1, inplace=True)\n",
    "# df_x00100"
   ]
  },
  {
   "cell_type": "code",
   "execution_count": 1315,
   "metadata": {},
   "outputs": [],
   "source": [
    "# ttest_x00100 = ttest_ind(df['A'],df_x00100['A']) #significant\n",
    "# ttest_x00100"
   ]
  },
  {
   "cell_type": "code",
   "execution_count": 1316,
   "metadata": {},
   "outputs": [],
   "source": [
    "# df_1x0000 = pd.read_csv('data_1507.csv')\n",
    "# df_1x0000.drop('Unnamed: 0', axis=1, inplace=True)\n",
    "# df_1x0000"
   ]
  },
  {
   "cell_type": "code",
   "execution_count": 1317,
   "metadata": {},
   "outputs": [],
   "source": [
    "# ttest_1x0000 = ttest_ind(df['B'], df_1x0000['B']) # not significant\n",
    "# ttest_1x0000"
   ]
  },
  {
   "cell_type": "code",
   "execution_count": 1318,
   "metadata": {},
   "outputs": [],
   "source": [
    "# df_10x000 = pd.read_csv('data_1509.csv')\n",
    "# df_10x000.drop('Unnamed: 0', axis=1, inplace=True)\n",
    "# df_10x000"
   ]
  },
  {
   "cell_type": "code",
   "execution_count": 1319,
   "metadata": {},
   "outputs": [],
   "source": [
    "# ttest_10x000 = ttest_ind(df['C'], df_10x000['C']) # not significant\n",
    "# ttest_10x000"
   ]
  },
  {
   "cell_type": "code",
   "execution_count": 1320,
   "metadata": {},
   "outputs": [],
   "source": [
    "# df_100x00 = pd.read_csv('data_1510.csv')\n",
    "# df_100x00.drop('Unnamed: 0', axis=1, inplace=True)\n",
    "# df_100x00"
   ]
  },
  {
   "cell_type": "code",
   "execution_count": 1321,
   "metadata": {},
   "outputs": [],
   "source": [
    "# ttest_100x00 = ttest_ind(df['D'], df_100x00['D']) # not significant\n",
    "# ttest_100x00"
   ]
  },
  {
   "cell_type": "code",
   "execution_count": 1322,
   "metadata": {},
   "outputs": [],
   "source": [
    "# df_1000x0 = pd.read_csv('data_1511.csv')\n",
    "# df_1000x0.drop('Unnamed: 0', axis=1, inplace=True)\n",
    "# df_1000x0"
   ]
  },
  {
   "cell_type": "code",
   "execution_count": 1323,
   "metadata": {},
   "outputs": [],
   "source": [
    "# ttest_1000x0 = ttest_ind(df['E'], df_1000x0['E']) # not significant\n",
    "# ttest_1000x0"
   ]
  },
  {
   "cell_type": "code",
   "execution_count": 1324,
   "metadata": {},
   "outputs": [],
   "source": [
    "# df_10000x = pd.read_csv('data_1512.csv')\n",
    "# df_10000x.drop('Unnamed: 0', axis=1, inplace=True)\n",
    "# df_10000x"
   ]
  },
  {
   "cell_type": "code",
   "execution_count": 1325,
   "metadata": {},
   "outputs": [],
   "source": [
    "# ttest_10000x = ttest_ind(df['F'], df_10000x['F']) # not significant\n",
    "# ttest_10000x"
   ]
  },
  {
   "cell_type": "code",
   "execution_count": 1326,
   "metadata": {},
   "outputs": [],
   "source": [
    "# df_x10000 = pd.read_csv('data_1513.csv')\n",
    "# df_x10000.drop('Unnamed: 0', axis=1, inplace=True)\n",
    "# df_x10000"
   ]
  },
  {
   "cell_type": "code",
   "execution_count": 1327,
   "metadata": {},
   "outputs": [],
   "source": [
    "# ttest_x10000 = ttest_ind(df['A'], df_x10000['A']) # not significant\n",
    "# ttest_x10000"
   ]
  },
  {
   "cell_type": "code",
   "execution_count": 1328,
   "metadata": {},
   "outputs": [],
   "source": [
    "# df_01x000 = pd.read_csv('data_1514.csv')\n",
    "# df_01x000.drop('Unnamed: 0', axis=1, inplace=True)\n",
    "# df_01x000"
   ]
  },
  {
   "cell_type": "code",
   "execution_count": 1329,
   "metadata": {},
   "outputs": [],
   "source": [
    "# ttest_01x000 = ttest_ind(df['C'], df_01x000['C']) # not significant\n",
    "# ttest_01x000"
   ]
  },
  {
   "cell_type": "code",
   "execution_count": 1330,
   "metadata": {},
   "outputs": [],
   "source": [
    "# df_010x00 = pd.read_csv('data_1515.csv')\n",
    "# df_010x00.drop('Unnamed: 0', axis=1, inplace=True)\n",
    "# df_010x00"
   ]
  },
  {
   "cell_type": "code",
   "execution_count": 1331,
   "metadata": {},
   "outputs": [],
   "source": [
    "# ttest_010x00 = ttest_ind(df['D'], df_01x000['D']) # not significant\n",
    "# ttest_010x00"
   ]
  },
  {
   "cell_type": "code",
   "execution_count": 1332,
   "metadata": {},
   "outputs": [],
   "source": [
    "# df_0100x0 = pd.read_csv('data_1516.csv')\n",
    "# df_0100x0.drop('Unnamed: 0', axis=1, inplace=True)\n",
    "# df_0100x0"
   ]
  },
  {
   "cell_type": "code",
   "execution_count": 1333,
   "metadata": {},
   "outputs": [],
   "source": [
    "# ttest_0100x0 = ttest_ind(df['E'], df_01x000['E']) # not significant\n",
    "# ttest_0100x0"
   ]
  },
  {
   "cell_type": "code",
   "execution_count": 1334,
   "metadata": {},
   "outputs": [],
   "source": [
    "# df_01000x = pd.read_csv('data_1517.csv')\n",
    "# df_01000x.drop('Unnamed: 0', axis=1, inplace=True)\n",
    "# df_01000x"
   ]
  },
  {
   "cell_type": "code",
   "execution_count": 1335,
   "metadata": {},
   "outputs": [],
   "source": [
    "# ttest_01000x = ttest_ind(df['F'], df_01x000['F']) # not significant\n",
    "# ttest_01000x"
   ]
  },
  {
   "cell_type": "code",
   "execution_count": 1336,
   "metadata": {},
   "outputs": [],
   "source": [
    "# df_x01000 = pd.read_csv('data_1518.csv')\n",
    "# df_x01000.drop('Unnamed: 0', axis=1, inplace=True)\n",
    "# df_x01000"
   ]
  },
  {
   "cell_type": "code",
   "execution_count": 1337,
   "metadata": {},
   "outputs": [],
   "source": [
    "# ttest_x01000 = ttest_ind(df['A'], df_01x000['A']) # not significant\n",
    "# ttest_x01000"
   ]
  },
  {
   "cell_type": "code",
   "execution_count": 1338,
   "metadata": {},
   "outputs": [],
   "source": [
    "# df_0x1000 = pd.read_csv('data_1519.csv')\n",
    "# df_0x1000.drop('Unnamed: 0', axis=1, inplace=True)\n",
    "# df_0x1000"
   ]
  },
  {
   "cell_type": "code",
   "execution_count": 1339,
   "metadata": {},
   "outputs": [],
   "source": [
    "# ttest_0x1000 = ttest_ind(df['B'], df_01x000['B']) # not significant\n",
    "# ttest_0x1000"
   ]
  },
  {
   "cell_type": "code",
   "execution_count": 1340,
   "metadata": {},
   "outputs": [],
   "source": [
    "# df_001x00 = pd.read_csv('data_1520.csv')\n",
    "# df_001x00.drop('Unnamed: 0', axis=1, inplace=True)\n",
    "# df_001x00"
   ]
  },
  {
   "cell_type": "code",
   "execution_count": 1341,
   "metadata": {},
   "outputs": [],
   "source": [
    "# ttest_001x00 = ttest_ind(df['D'], df_01x000['D']) # not significant\n",
    "# ttest_001x00"
   ]
  },
  {
   "cell_type": "code",
   "execution_count": 1342,
   "metadata": {},
   "outputs": [],
   "source": [
    "# df_0010x0 = pd.read_csv('data_1521.csv')\n",
    "# df_0010x0.drop('Unnamed: 0', axis=1, inplace=True)\n",
    "# df_0010x0"
   ]
  },
  {
   "cell_type": "code",
   "execution_count": 1343,
   "metadata": {},
   "outputs": [],
   "source": [
    "# ttest_0010x0 = ttest_ind(df['E'], df_01x000['E']) # not significant\n",
    "# ttest_0010x0"
   ]
  },
  {
   "cell_type": "code",
   "execution_count": 1344,
   "metadata": {},
   "outputs": [],
   "source": [
    "# df_00100x = pd.read_csv('data_1523.csv') MANGLER\n",
    "# df_00100x.drop('Unnamed: 0', axis=1, inplace=True)\n",
    "# df_00100x"
   ]
  },
  {
   "cell_type": "code",
   "execution_count": 1345,
   "metadata": {},
   "outputs": [],
   "source": [
    "# ttest_00100x = ttest_ind(df['F'], df_01x000['F']) # not significant\n",
    "# ttest_00100x"
   ]
  },
  {
   "cell_type": "code",
   "execution_count": 1346,
   "metadata": {},
   "outputs": [],
   "source": [
    "# df_00x100 = pd.read_csv('data_1524.csv')\n",
    "# df_00x100.drop('Unnamed: 0', axis=1, inplace=True)\n",
    "# df_00x100"
   ]
  },
  {
   "cell_type": "code",
   "execution_count": 1347,
   "metadata": {},
   "outputs": [],
   "source": [
    "# ttest_00x100 = ttest_ind(df['C'], df_00x100['C']) # not significant\n",
    "# ttest_00x100"
   ]
  },
  {
   "cell_type": "code",
   "execution_count": 1348,
   "metadata": {},
   "outputs": [],
   "source": [
    "# df_0001x0 = pd.read_csv('data_1525.csv')\n",
    "# df_0001x0.drop('Unnamed: 0', axis=1, inplace=True)\n",
    "# df_0001x0"
   ]
  },
  {
   "cell_type": "code",
   "execution_count": 1349,
   "metadata": {},
   "outputs": [],
   "source": [
    "# ttest_0001x0 = ttest_ind(df['E'], df_00x100['E']) # not significant\n",
    "# ttest_0001x0"
   ]
  },
  {
   "cell_type": "code",
   "execution_count": 1350,
   "metadata": {},
   "outputs": [],
   "source": [
    "# df_00010x = pd.read_csv('data_1526.csv')\n",
    "# df_00010x.drop('Unnamed: 0', axis=1, inplace=True)\n",
    "# df_00010x"
   ]
  },
  {
   "cell_type": "code",
   "execution_count": 1351,
   "metadata": {},
   "outputs": [],
   "source": [
    "# ttest_00010x = ttest_ind(df['F'], df_00x100['F']) # not significant\n",
    "# ttest_00010x"
   ]
  },
  {
   "cell_type": "code",
   "execution_count": 1352,
   "metadata": {},
   "outputs": [],
   "source": [
    "# df_x00010 = pd.read_csv('data_1527.csv')\n",
    "# df_x00010.drop('Unnamed: 0', axis=1, inplace=True)\n",
    "# df_x00010"
   ]
  },
  {
   "cell_type": "code",
   "execution_count": 1353,
   "metadata": {},
   "outputs": [],
   "source": [
    "# ttest_x00010 = ttest_ind(df['A'], df_00x100['A']) # not significant\n",
    "# ttest_x00010"
   ]
  },
  {
   "cell_type": "code",
   "execution_count": 1354,
   "metadata": {},
   "outputs": [],
   "source": [
    "# df_0x0010 = pd.read_csv('data_1528.csv')\n",
    "# df_0x0010.drop('Unnamed: 0', axis=1, inplace=True)\n",
    "# df_0x0010"
   ]
  },
  {
   "cell_type": "code",
   "execution_count": 1355,
   "metadata": {},
   "outputs": [],
   "source": [
    "# ttest_0x0010 = ttest_ind(df['B'], df_0x0010['B']) # not significant\n",
    "# ttest_0x0010"
   ]
  },
  {
   "cell_type": "code",
   "execution_count": 1356,
   "metadata": {},
   "outputs": [],
   "source": [
    "# df_000x10 = pd.read_csv('data_1529.csv')\n",
    "# df_000x10.drop('Unnamed: 0', axis=1, inplace=True)\n",
    "# df_000x10"
   ]
  },
  {
   "cell_type": "code",
   "execution_count": 1357,
   "metadata": {},
   "outputs": [],
   "source": [
    "# ttest_000x10 = ttest_ind(df['D'], df_000x10['D']) # not significant\n",
    "# ttest_000x10"
   ]
  },
  {
   "cell_type": "code",
   "execution_count": 1358,
   "metadata": {},
   "outputs": [],
   "source": [
    "# df_00x001 = pd.read_csv('data_1530.csv')\n",
    "# df_00x001.drop('Unnamed: 0', axis=1, inplace=True)\n",
    "# df_00x001"
   ]
  },
  {
   "cell_type": "code",
   "execution_count": 1359,
   "metadata": {},
   "outputs": [],
   "source": [
    "# ttest_00x001 = ttest_ind(df['C'], df_00x001['C']) # not significant\n",
    "# ttest_00x001"
   ]
  },
  {
   "cell_type": "code",
   "execution_count": 1360,
   "metadata": {},
   "outputs": [],
   "source": [
    "# df_000x01 = pd.read_csv('data_1531.csv')\n",
    "# df_000x01.drop('Unnamed: 0', axis=1, inplace=True)\n",
    "# df_000x01"
   ]
  },
  {
   "cell_type": "code",
   "execution_count": 1361,
   "metadata": {},
   "outputs": [],
   "source": [
    "# ttest_000x01 = ttest_ind(df['D'], df_000x01['D']) # not significant\n",
    "# ttest_000x01"
   ]
  },
  {
   "cell_type": "code",
   "execution_count": 1362,
   "metadata": {},
   "outputs": [],
   "source": [
    "# df_0000x1 = pd.read_csv('data_1532.csv')\n",
    "# df_0000x1.drop('Unnamed: 0', axis=1, inplace=True)\n",
    "# df_0000x1"
   ]
  },
  {
   "cell_type": "code",
   "execution_count": 1363,
   "metadata": {},
   "outputs": [],
   "source": [
    "# ttest_0000x1 = ttest_ind(df['E'], df_0000x1['E']) # not significant\n",
    "# ttest_0000x1"
   ]
  },
  {
   "cell_type": "code",
   "execution_count": 1364,
   "metadata": {},
   "outputs": [],
   "source": [
    "# table_ttest2 = pd.DataFrame({'A': ['Nan', ttest_x10000.pvalue, ttest_x01000.pvalue, ttest_x00100.pvalue, ttest_x00010.pvalue, ttest_x00001.pvalue],\n",
    "#                             'B': [ttest_1x0000.pvalue, 'NaN', ttest_0x1000.pvalue, ttest_0x0100.pvalue, ttest_0x0010.pvalue, ttest_0x0001.pvalue],\n",
    "#                             'C': [ttest_10x000.pvalue, ttest_01x000.pvalue, 'NaN', ttest_00x100.pvalue, ttest_00x010.pvalue, ttest_00x001.pvalue],\n",
    "#                             'D': [ttest_100x00.pvalue, ttest_100x00.pvalue, ttest_001x00.pvalue, 'NaN', ttest_000x10.pvalue, ttest_000x01.pvalue],\n",
    "#                             'E': [ttest_1000x0.pvalue, ttest_0100x0.pvalue, ttest_0010x0.pvalue, ttest_0001x0.pvalue, 'NaN', ttest_0000x1.pvalue],\n",
    "#                             'F': [ttest_10000x.pvalue, ttest_01000x.pvalue, 'Mangler', ttest_00010x.pvalue, ttest_00001x.pvalue, 'NaN']},\n",
    "#                             index=['A = 1', 'B = 1', 'C = 1', 'D = 1', 'E = 1', 'F = 1'])\n",
    "\n",
    "# table_ttest2"
   ]
  },
  {
   "cell_type": "code",
   "execution_count": 1365,
   "metadata": {},
   "outputs": [
    {
     "data": {
      "text/html": [
       "<div>\n",
       "<style scoped>\n",
       "    .dataframe tbody tr th:only-of-type {\n",
       "        vertical-align: middle;\n",
       "    }\n",
       "\n",
       "    .dataframe tbody tr th {\n",
       "        vertical-align: top;\n",
       "    }\n",
       "\n",
       "    .dataframe thead th {\n",
       "        text-align: right;\n",
       "    }\n",
       "</style>\n",
       "<table border=\"1\" class=\"dataframe\">\n",
       "  <thead>\n",
       "    <tr style=\"text-align: right;\">\n",
       "      <th></th>\n",
       "      <th>A</th>\n",
       "      <th>B</th>\n",
       "      <th>C</th>\n",
       "      <th>D</th>\n",
       "      <th>E</th>\n",
       "      <th>F</th>\n",
       "    </tr>\n",
       "  </thead>\n",
       "  <tbody>\n",
       "    <tr>\n",
       "      <th>A = 0, A = 2</th>\n",
       "      <td>0.000</td>\n",
       "      <td>0.00</td>\n",
       "      <td>0.000</td>\n",
       "      <td>0.953</td>\n",
       "      <td>0.202</td>\n",
       "      <td>0.696</td>\n",
       "    </tr>\n",
       "    <tr>\n",
       "      <th>B = 0, B = 2</th>\n",
       "      <td>0.124</td>\n",
       "      <td>0.00</td>\n",
       "      <td>0.796</td>\n",
       "      <td>0.723</td>\n",
       "      <td>0.579</td>\n",
       "      <td>0.173</td>\n",
       "    </tr>\n",
       "    <tr>\n",
       "      <th>C = 2, C = -2</th>\n",
       "      <td>0.862</td>\n",
       "      <td>0.73</td>\n",
       "      <td>0.000</td>\n",
       "      <td>0.360</td>\n",
       "      <td>0.304</td>\n",
       "      <td>0.851</td>\n",
       "    </tr>\n",
       "    <tr>\n",
       "      <th>D = 0, D = 2</th>\n",
       "      <td>0.000</td>\n",
       "      <td>0.00</td>\n",
       "      <td>0.639</td>\n",
       "      <td>0.000</td>\n",
       "      <td>0.027</td>\n",
       "      <td>0.778</td>\n",
       "    </tr>\n",
       "    <tr>\n",
       "      <th>E = 0, E = -2</th>\n",
       "      <td>0.000</td>\n",
       "      <td>0.00</td>\n",
       "      <td>0.141</td>\n",
       "      <td>0.004</td>\n",
       "      <td>0.000</td>\n",
       "      <td>0.000</td>\n",
       "    </tr>\n",
       "    <tr>\n",
       "      <th>F = 2, F = -2</th>\n",
       "      <td>0.000</td>\n",
       "      <td>0.00</td>\n",
       "      <td>0.008</td>\n",
       "      <td>0.260</td>\n",
       "      <td>0.277</td>\n",
       "      <td>0.000</td>\n",
       "    </tr>\n",
       "  </tbody>\n",
       "</table>\n",
       "</div>"
      ],
      "text/plain": [
       "                   A     B      C      D      E      F\n",
       "A = 0, A = 2   0.000  0.00  0.000  0.953  0.202  0.696\n",
       "B = 0, B = 2   0.124  0.00  0.796  0.723  0.579  0.173\n",
       "C = 2, C = -2  0.862  0.73  0.000  0.360  0.304  0.851\n",
       "D = 0, D = 2   0.000  0.00  0.639  0.000  0.027  0.778\n",
       "E = 0, E = -2  0.000  0.00  0.141  0.004  0.000  0.000\n",
       "F = 2, F = -2  0.000  0.00  0.008  0.260  0.277  0.000"
      ]
     },
     "execution_count": 1365,
     "metadata": {},
     "output_type": "execute_result"
    }
   ],
   "source": [
    "table_ttest"
   ]
  },
  {
   "cell_type": "code",
   "execution_count": 1366,
   "metadata": {},
   "outputs": [
    {
     "data": {
      "text/plain": [
       "(0.33343008689593295,\n",
       " 0.3688204571052875,\n",
       " 1.7427510005046511,\n",
       " -0.010298282576225141,\n",
       " 0.018991330608664248,\n",
       " 2.064712627269456)"
      ]
     },
     "execution_count": 1366,
     "metadata": {},
     "output_type": "execute_result"
    }
   ],
   "source": [
    "df['A'].mean(), df['B'].mean(), df['C'].mean(), df['D'].mean(), df['E'].mean(), df['F'].mean()"
   ]
  },
  {
   "cell_type": "code",
   "execution_count": 1367,
   "metadata": {},
   "outputs": [
    {
     "data": {
      "text/html": [
       "<div>\n",
       "<style scoped>\n",
       "    .dataframe tbody tr th:only-of-type {\n",
       "        vertical-align: middle;\n",
       "    }\n",
       "\n",
       "    .dataframe tbody tr th {\n",
       "        vertical-align: top;\n",
       "    }\n",
       "\n",
       "    .dataframe thead th {\n",
       "        text-align: right;\n",
       "    }\n",
       "</style>\n",
       "<table border=\"1\" class=\"dataframe\">\n",
       "  <thead>\n",
       "    <tr style=\"text-align: right;\">\n",
       "      <th></th>\n",
       "      <th>df</th>\n",
       "      <th>df_A</th>\n",
       "      <th>df_B</th>\n",
       "      <th>df_C</th>\n",
       "      <th>df_D</th>\n",
       "      <th>df_E</th>\n",
       "      <th>df_F</th>\n",
       "      <th>df_DF</th>\n",
       "      <th>df_DminusF</th>\n",
       "    </tr>\n",
       "  </thead>\n",
       "  <tbody>\n",
       "    <tr>\n",
       "      <th>A</th>\n",
       "      <td>0.333430</td>\n",
       "      <td>2.000000</td>\n",
       "      <td>0.555466</td>\n",
       "      <td>0.465736</td>\n",
       "      <td>-0.760589</td>\n",
       "      <td>0.902951</td>\n",
       "      <td>4.393347</td>\n",
       "      <td>2.404831</td>\n",
       "      <td>2.583010</td>\n",
       "    </tr>\n",
       "    <tr>\n",
       "      <th>B</th>\n",
       "      <td>0.368820</td>\n",
       "      <td>-0.207621</td>\n",
       "      <td>2.000000</td>\n",
       "      <td>0.290804</td>\n",
       "      <td>0.538956</td>\n",
       "      <td>0.253315</td>\n",
       "      <td>-0.796217</td>\n",
       "      <td>-0.456154</td>\n",
       "      <td>-0.276572</td>\n",
       "    </tr>\n",
       "    <tr>\n",
       "      <th>C</th>\n",
       "      <td>1.742751</td>\n",
       "      <td>2.184678</td>\n",
       "      <td>1.572362</td>\n",
       "      <td>2.000000</td>\n",
       "      <td>1.713713</td>\n",
       "      <td>1.700934</td>\n",
       "      <td>1.358835</td>\n",
       "      <td>1.813632</td>\n",
       "      <td>1.767273</td>\n",
       "    </tr>\n",
       "    <tr>\n",
       "      <th>D</th>\n",
       "      <td>-0.010298</td>\n",
       "      <td>0.016247</td>\n",
       "      <td>-0.016100</td>\n",
       "      <td>-0.018503</td>\n",
       "      <td>0.000000</td>\n",
       "      <td>0.009417</td>\n",
       "      <td>0.025455</td>\n",
       "      <td>1.000000</td>\n",
       "      <td>-1.000000</td>\n",
       "    </tr>\n",
       "    <tr>\n",
       "      <th>E</th>\n",
       "      <td>0.018991</td>\n",
       "      <td>0.058529</td>\n",
       "      <td>-0.015301</td>\n",
       "      <td>0.018810</td>\n",
       "      <td>-0.072290</td>\n",
       "      <td>0.000000</td>\n",
       "      <td>0.056024</td>\n",
       "      <td>-0.176684</td>\n",
       "      <td>0.033086</td>\n",
       "    </tr>\n",
       "    <tr>\n",
       "      <th>F</th>\n",
       "      <td>2.064713</td>\n",
       "      <td>1.978415</td>\n",
       "      <td>1.973595</td>\n",
       "      <td>2.049570</td>\n",
       "      <td>2.068149</td>\n",
       "      <td>0.889827</td>\n",
       "      <td>-2.000000</td>\n",
       "      <td>1.000000</td>\n",
       "      <td>1.000000</td>\n",
       "    </tr>\n",
       "  </tbody>\n",
       "</table>\n",
       "</div>"
      ],
      "text/plain": [
       "         df      df_A      df_B      df_C      df_D      df_E      df_F  \\\n",
       "A  0.333430  2.000000  0.555466  0.465736 -0.760589  0.902951  4.393347   \n",
       "B  0.368820 -0.207621  2.000000  0.290804  0.538956  0.253315 -0.796217   \n",
       "C  1.742751  2.184678  1.572362  2.000000  1.713713  1.700934  1.358835   \n",
       "D -0.010298  0.016247 -0.016100 -0.018503  0.000000  0.009417  0.025455   \n",
       "E  0.018991  0.058529 -0.015301  0.018810 -0.072290  0.000000  0.056024   \n",
       "F  2.064713  1.978415  1.973595  2.049570  2.068149  0.889827 -2.000000   \n",
       "\n",
       "      df_DF  df_DminusF  \n",
       "A  2.404831    2.583010  \n",
       "B -0.456154   -0.276572  \n",
       "C  1.813632    1.767273  \n",
       "D  1.000000   -1.000000  \n",
       "E -0.176684    0.033086  \n",
       "F  1.000000    1.000000  "
      ]
     },
     "execution_count": 1367,
     "metadata": {},
     "output_type": "execute_result"
    }
   ],
   "source": [
    "table_mean = pd.concat([df.mean(), df_A.mean(), df_B.mean(), df_C.mean(), df_D.mean(), df_E.mean(), df_F.mean(), df_DF.mean(), df_DminusF.mean()], axis=1)\n",
    "table_mean.columns = ['df', 'df_A', 'df_B', 'df_C', 'df_D', 'df_E', 'df_F','df_DF', 'df_DminusF']\n",
    "table_mean"
   ]
  },
  {
   "cell_type": "code",
   "execution_count": 1368,
   "metadata": {},
   "outputs": [
    {
     "data": {
      "text/html": [
       "<div>\n",
       "<style scoped>\n",
       "    .dataframe tbody tr th:only-of-type {\n",
       "        vertical-align: middle;\n",
       "    }\n",
       "\n",
       "    .dataframe tbody tr th {\n",
       "        vertical-align: top;\n",
       "    }\n",
       "\n",
       "    .dataframe thead th {\n",
       "        text-align: right;\n",
       "    }\n",
       "</style>\n",
       "<table border=\"1\" class=\"dataframe\">\n",
       "  <thead>\n",
       "    <tr style=\"text-align: right;\">\n",
       "      <th></th>\n",
       "      <th>df</th>\n",
       "      <th>df_A</th>\n",
       "      <th>df_B</th>\n",
       "      <th>df_C</th>\n",
       "      <th>df_D</th>\n",
       "      <th>df_E</th>\n",
       "      <th>df_F</th>\n",
       "    </tr>\n",
       "  </thead>\n",
       "  <tbody>\n",
       "    <tr>\n",
       "      <th>A</th>\n",
       "      <td>4.403530</td>\n",
       "      <td>0.000000</td>\n",
       "      <td>4.227515</td>\n",
       "      <td>4.611073</td>\n",
       "      <td>3.062463</td>\n",
       "      <td>4.462128</td>\n",
       "      <td>3.021860</td>\n",
       "    </tr>\n",
       "    <tr>\n",
       "      <th>B</th>\n",
       "      <td>2.818794</td>\n",
       "      <td>2.280126</td>\n",
       "      <td>0.000000</td>\n",
       "      <td>2.889754</td>\n",
       "      <td>3.675699</td>\n",
       "      <td>2.211347</td>\n",
       "      <td>2.818819</td>\n",
       "    </tr>\n",
       "    <tr>\n",
       "      <th>C</th>\n",
       "      <td>1.719510</td>\n",
       "      <td>1.660169</td>\n",
       "      <td>2.160524</td>\n",
       "      <td>0.000000</td>\n",
       "      <td>1.786523</td>\n",
       "      <td>1.971987</td>\n",
       "      <td>2.022589</td>\n",
       "    </tr>\n",
       "    <tr>\n",
       "      <th>D</th>\n",
       "      <td>0.408295</td>\n",
       "      <td>0.519216</td>\n",
       "      <td>0.563244</td>\n",
       "      <td>0.417478</td>\n",
       "      <td>0.000000</td>\n",
       "      <td>0.008601</td>\n",
       "      <td>0.491766</td>\n",
       "    </tr>\n",
       "    <tr>\n",
       "      <th>E</th>\n",
       "      <td>0.708002</td>\n",
       "      <td>0.705865</td>\n",
       "      <td>0.701533</td>\n",
       "      <td>0.689267</td>\n",
       "      <td>0.689519</td>\n",
       "      <td>0.000000</td>\n",
       "      <td>0.778730</td>\n",
       "    </tr>\n",
       "    <tr>\n",
       "      <th>F</th>\n",
       "      <td>1.857524</td>\n",
       "      <td>1.690464</td>\n",
       "      <td>1.999654</td>\n",
       "      <td>1.596985</td>\n",
       "      <td>1.915839</td>\n",
       "      <td>0.935670</td>\n",
       "      <td>0.000000</td>\n",
       "    </tr>\n",
       "  </tbody>\n",
       "</table>\n",
       "</div>"
      ],
      "text/plain": [
       "         df      df_A      df_B      df_C      df_D      df_E      df_F\n",
       "A  4.403530  0.000000  4.227515  4.611073  3.062463  4.462128  3.021860\n",
       "B  2.818794  2.280126  0.000000  2.889754  3.675699  2.211347  2.818819\n",
       "C  1.719510  1.660169  2.160524  0.000000  1.786523  1.971987  2.022589\n",
       "D  0.408295  0.519216  0.563244  0.417478  0.000000  0.008601  0.491766\n",
       "E  0.708002  0.705865  0.701533  0.689267  0.689519  0.000000  0.778730\n",
       "F  1.857524  1.690464  1.999654  1.596985  1.915839  0.935670  0.000000"
      ]
     },
     "execution_count": 1368,
     "metadata": {},
     "output_type": "execute_result"
    }
   ],
   "source": [
    "# make a table of the var of each column for each df_*\n",
    "table_var = pd.concat([df.var(), df_A.var(), df_B.var(), df_C.var(), df_D.var(), df_E.var(), df_F.var()], axis=1)\n",
    "table_var.columns = ['df', 'df_A', 'df_B', 'df_C', 'df_D', 'df_E', 'df_F']\n",
    "table_var"
   ]
  }
 ],
 "metadata": {
  "kernelspec": {
   "display_name": "base",
   "language": "python",
   "name": "python3"
  },
  "language_info": {
   "codemirror_mode": {
    "name": "ipython",
    "version": 3
   },
   "file_extension": ".py",
   "mimetype": "text/x-python",
   "name": "python",
   "nbconvert_exporter": "python",
   "pygments_lexer": "ipython3",
   "version": "3.9.12"
  }
 },
 "nbformat": 4,
 "nbformat_minor": 2
}
